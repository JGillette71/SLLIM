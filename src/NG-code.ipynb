{
 "cells": [
  {
   "cell_type": "markdown",
   "metadata": {},
   "source": [
    "#### Install the required libraries"
   ]
  },
  {
   "cell_type": "code",
   "execution_count": null,
   "metadata": {},
   "outputs": [
    {
     "name": "stdout",
     "output_type": "stream",
     "text": [
      "Requirement already satisfied: transformers in c:\\users\\user\\appdata\\local\\programs\\python\\python312\\lib\\site-packages (4.46.3)\n",
      "Requirement already satisfied: datasets in c:\\users\\user\\appdata\\local\\programs\\python\\python312\\lib\\site-packages (3.1.0)\n",
      "Requirement already satisfied: pandas in c:\\users\\user\\appdata\\local\\programs\\python\\python312\\lib\\site-packages (2.2.3)\n",
      "Requirement already satisfied: numpy in c:\\users\\user\\appdata\\local\\programs\\python\\python312\\lib\\site-packages (2.1.3)\n",
      "Requirement already satisfied: jupyter in c:\\users\\user\\appdata\\local\\programs\\python\\python312\\lib\\site-packages (1.1.1)\n",
      "Requirement already satisfied: tqdm in c:\\users\\user\\appdata\\local\\programs\\python\\python312\\lib\\site-packages (4.67.1)\n",
      "Requirement already satisfied: ipywidgets in c:\\users\\user\\appdata\\local\\programs\\python\\python312\\lib\\site-packages (8.1.5)\n",
      "Requirement already satisfied: filelock in c:\\users\\user\\appdata\\local\\programs\\python\\python312\\lib\\site-packages (from transformers) (3.16.1)\n",
      "Requirement already satisfied: huggingface-hub<1.0,>=0.23.2 in c:\\users\\user\\appdata\\local\\programs\\python\\python312\\lib\\site-packages (from transformers) (0.26.3)\n",
      "Requirement already satisfied: packaging>=20.0 in c:\\users\\user\\appdata\\local\\programs\\python\\python312\\lib\\site-packages (from transformers) (24.2)\n",
      "Requirement already satisfied: pyyaml>=5.1 in c:\\users\\user\\appdata\\local\\programs\\python\\python312\\lib\\site-packages (from transformers) (6.0.2)\n",
      "Requirement already satisfied: regex!=2019.12.17 in c:\\users\\user\\appdata\\local\\programs\\python\\python312\\lib\\site-packages (from transformers) (2024.11.6)\n",
      "Requirement already satisfied: requests in c:\\users\\user\\appdata\\local\\programs\\python\\python312\\lib\\site-packages (from transformers) (2.32.3)\n",
      "Collecting tokenizers<0.21,>=0.20 (from transformers)\n",
      "  Using cached tokenizers-0.20.3-cp312-none-win_amd64.whl.metadata (6.9 kB)\n",
      "Requirement already satisfied: safetensors>=0.4.1 in c:\\users\\user\\appdata\\local\\programs\\python\\python312\\lib\\site-packages (from transformers) (0.4.5)\n",
      "Requirement already satisfied: pyarrow>=15.0.0 in c:\\users\\user\\appdata\\local\\programs\\python\\python312\\lib\\site-packages (from datasets) (18.1.0)\n",
      "Collecting dill<0.3.9,>=0.3.0 (from datasets)\n",
      "  Using cached dill-0.3.8-py3-none-any.whl.metadata (10 kB)\n",
      "Requirement already satisfied: xxhash in c:\\users\\user\\appdata\\local\\programs\\python\\python312\\lib\\site-packages (from datasets) (3.5.0)\n",
      "Collecting multiprocess<0.70.17 (from datasets)\n",
      "  Using cached multiprocess-0.70.16-py312-none-any.whl.metadata (7.2 kB)\n",
      "Collecting fsspec<=2024.9.0,>=2023.1.0 (from fsspec[http]<=2024.9.0,>=2023.1.0->datasets)\n",
      "  Using cached fsspec-2024.9.0-py3-none-any.whl.metadata (11 kB)\n",
      "Requirement already satisfied: aiohttp in c:\\users\\user\\appdata\\local\\programs\\python\\python312\\lib\\site-packages (from datasets) (3.11.9)\n",
      "Requirement already satisfied: python-dateutil>=2.8.2 in c:\\users\\user\\appdata\\local\\programs\\python\\python312\\lib\\site-packages (from pandas) (2.9.0.post0)\n",
      "Requirement already satisfied: pytz>=2020.1 in c:\\users\\user\\appdata\\local\\programs\\python\\python312\\lib\\site-packages (from pandas) (2024.2)\n",
      "Requirement already satisfied: tzdata>=2022.7 in c:\\users\\user\\appdata\\local\\programs\\python\\python312\\lib\\site-packages (from pandas) (2024.2)\n",
      "Requirement already satisfied: notebook in c:\\users\\user\\appdata\\local\\programs\\python\\python312\\lib\\site-packages (from jupyter) (7.2.2)\n",
      "Requirement already satisfied: jupyter-console in c:\\users\\user\\appdata\\local\\programs\\python\\python312\\lib\\site-packages (from jupyter) (6.6.3)\n",
      "Requirement already satisfied: nbconvert in c:\\users\\user\\appdata\\local\\programs\\python\\python312\\lib\\site-packages (from jupyter) (7.16.4)\n",
      "Requirement already satisfied: ipykernel in c:\\users\\user\\appdata\\local\\programs\\python\\python312\\lib\\site-packages (from jupyter) (6.29.5)\n",
      "Requirement already satisfied: jupyterlab in c:\\users\\user\\appdata\\local\\programs\\python\\python312\\lib\\site-packages (from jupyter) (4.3.1)\n",
      "Requirement already satisfied: colorama in c:\\users\\user\\appdata\\local\\programs\\python\\python312\\lib\\site-packages (from tqdm) (0.4.6)\n",
      "Requirement already satisfied: comm>=0.1.3 in c:\\users\\user\\appdata\\local\\programs\\python\\python312\\lib\\site-packages (from ipywidgets) (0.2.2)\n",
      "Requirement already satisfied: ipython>=6.1.0 in c:\\users\\user\\appdata\\local\\programs\\python\\python312\\lib\\site-packages (from ipywidgets) (8.30.0)\n",
      "Requirement already satisfied: traitlets>=4.3.1 in c:\\users\\user\\appdata\\local\\programs\\python\\python312\\lib\\site-packages (from ipywidgets) (5.14.3)\n",
      "Requirement already satisfied: widgetsnbextension~=4.0.12 in c:\\users\\user\\appdata\\local\\programs\\python\\python312\\lib\\site-packages (from ipywidgets) (4.0.13)\n",
      "Requirement already satisfied: jupyterlab-widgets~=3.0.12 in c:\\users\\user\\appdata\\local\\programs\\python\\python312\\lib\\site-packages (from ipywidgets) (3.0.13)\n",
      "Requirement already satisfied: aiohappyeyeballs>=2.3.0 in c:\\users\\user\\appdata\\local\\programs\\python\\python312\\lib\\site-packages (from aiohttp->datasets) (2.4.4)\n",
      "Requirement already satisfied: aiosignal>=1.1.2 in c:\\users\\user\\appdata\\local\\programs\\python\\python312\\lib\\site-packages (from aiohttp->datasets) (1.3.1)\n",
      "Requirement already satisfied: attrs>=17.3.0 in c:\\users\\user\\appdata\\local\\programs\\python\\python312\\lib\\site-packages (from aiohttp->datasets) (24.2.0)\n",
      "Requirement already satisfied: frozenlist>=1.1.1 in c:\\users\\user\\appdata\\local\\programs\\python\\python312\\lib\\site-packages (from aiohttp->datasets) (1.5.0)\n",
      "Requirement already satisfied: multidict<7.0,>=4.5 in c:\\users\\user\\appdata\\local\\programs\\python\\python312\\lib\\site-packages (from aiohttp->datasets) (6.1.0)\n",
      "Requirement already satisfied: propcache>=0.2.0 in c:\\users\\user\\appdata\\local\\programs\\python\\python312\\lib\\site-packages (from aiohttp->datasets) (0.2.1)\n",
      "Requirement already satisfied: yarl<2.0,>=1.17.0 in c:\\users\\user\\appdata\\local\\programs\\python\\python312\\lib\\site-packages (from aiohttp->datasets) (1.18.3)\n",
      "Requirement already satisfied: typing-extensions>=3.7.4.3 in c:\\users\\user\\appdata\\local\\programs\\python\\python312\\lib\\site-packages (from huggingface-hub<1.0,>=0.23.2->transformers) (4.12.2)\n",
      "Requirement already satisfied: decorator in c:\\users\\user\\appdata\\local\\programs\\python\\python312\\lib\\site-packages (from ipython>=6.1.0->ipywidgets) (5.1.1)\n",
      "Requirement already satisfied: jedi>=0.16 in c:\\users\\user\\appdata\\local\\programs\\python\\python312\\lib\\site-packages (from ipython>=6.1.0->ipywidgets) (0.19.2)\n",
      "Requirement already satisfied: matplotlib-inline in c:\\users\\user\\appdata\\local\\programs\\python\\python312\\lib\\site-packages (from ipython>=6.1.0->ipywidgets) (0.1.7)\n",
      "Requirement already satisfied: prompt_toolkit<3.1.0,>=3.0.41 in c:\\users\\user\\appdata\\local\\programs\\python\\python312\\lib\\site-packages (from ipython>=6.1.0->ipywidgets) (3.0.48)\n",
      "Requirement already satisfied: pygments>=2.4.0 in c:\\users\\user\\appdata\\local\\programs\\python\\python312\\lib\\site-packages (from ipython>=6.1.0->ipywidgets) (2.18.0)\n",
      "Requirement already satisfied: stack_data in c:\\users\\user\\appdata\\local\\programs\\python\\python312\\lib\\site-packages (from ipython>=6.1.0->ipywidgets) (0.6.3)\n",
      "Requirement already satisfied: six>=1.5 in c:\\users\\user\\appdata\\local\\programs\\python\\python312\\lib\\site-packages (from python-dateutil>=2.8.2->pandas) (1.16.0)\n",
      "Requirement already satisfied: charset-normalizer<4,>=2 in c:\\users\\user\\appdata\\local\\programs\\python\\python312\\lib\\site-packages (from requests->transformers) (3.4.0)\n",
      "Requirement already satisfied: idna<4,>=2.5 in c:\\users\\user\\appdata\\local\\programs\\python\\python312\\lib\\site-packages (from requests->transformers) (3.10)\n",
      "Requirement already satisfied: urllib3<3,>=1.21.1 in c:\\users\\user\\appdata\\local\\programs\\python\\python312\\lib\\site-packages (from requests->transformers) (2.2.3)\n",
      "Requirement already satisfied: certifi>=2017.4.17 in c:\\users\\user\\appdata\\local\\programs\\python\\python312\\lib\\site-packages (from requests->transformers) (2024.8.30)\n",
      "Requirement already satisfied: debugpy>=1.6.5 in c:\\users\\user\\appdata\\local\\programs\\python\\python312\\lib\\site-packages (from ipykernel->jupyter) (1.8.9)\n",
      "Requirement already satisfied: jupyter-client>=6.1.12 in c:\\users\\user\\appdata\\local\\programs\\python\\python312\\lib\\site-packages (from ipykernel->jupyter) (8.6.3)\n",
      "Requirement already satisfied: jupyter-core!=5.0.*,>=4.12 in c:\\users\\user\\appdata\\local\\programs\\python\\python312\\lib\\site-packages (from ipykernel->jupyter) (5.7.2)\n",
      "Requirement already satisfied: nest-asyncio in c:\\users\\user\\appdata\\local\\programs\\python\\python312\\lib\\site-packages (from ipykernel->jupyter) (1.6.0)\n",
      "Requirement already satisfied: psutil in c:\\users\\user\\appdata\\local\\programs\\python\\python312\\lib\\site-packages (from ipykernel->jupyter) (6.1.0)\n",
      "Requirement already satisfied: pyzmq>=24 in c:\\users\\user\\appdata\\local\\programs\\python\\python312\\lib\\site-packages (from ipykernel->jupyter) (26.2.0)\n",
      "Requirement already satisfied: tornado>=6.1 in c:\\users\\user\\appdata\\local\\programs\\python\\python312\\lib\\site-packages (from ipykernel->jupyter) (6.4.2)\n",
      "Requirement already satisfied: async-lru>=1.0.0 in c:\\users\\user\\appdata\\local\\programs\\python\\python312\\lib\\site-packages (from jupyterlab->jupyter) (2.0.4)\n",
      "Requirement already satisfied: httpx>=0.25.0 in c:\\users\\user\\appdata\\local\\programs\\python\\python312\\lib\\site-packages (from jupyterlab->jupyter) (0.28.0)\n",
      "Requirement already satisfied: jinja2>=3.0.3 in c:\\users\\user\\appdata\\local\\programs\\python\\python312\\lib\\site-packages (from jupyterlab->jupyter) (3.1.4)\n",
      "Requirement already satisfied: jupyter-lsp>=2.0.0 in c:\\users\\user\\appdata\\local\\programs\\python\\python312\\lib\\site-packages (from jupyterlab->jupyter) (2.2.5)\n",
      "Requirement already satisfied: jupyter-server<3,>=2.4.0 in c:\\users\\user\\appdata\\local\\programs\\python\\python312\\lib\\site-packages (from jupyterlab->jupyter) (2.14.2)\n",
      "Requirement already satisfied: jupyterlab-server<3,>=2.27.1 in c:\\users\\user\\appdata\\local\\programs\\python\\python312\\lib\\site-packages (from jupyterlab->jupyter) (2.27.3)\n",
      "Requirement already satisfied: notebook-shim>=0.2 in c:\\users\\user\\appdata\\local\\programs\\python\\python312\\lib\\site-packages (from jupyterlab->jupyter) (0.2.4)\n",
      "Requirement already satisfied: setuptools>=40.1.0 in c:\\users\\user\\appdata\\local\\programs\\python\\python312\\lib\\site-packages (from jupyterlab->jupyter) (75.6.0)\n",
      "Requirement already satisfied: beautifulsoup4 in c:\\users\\user\\appdata\\local\\programs\\python\\python312\\lib\\site-packages (from nbconvert->jupyter) (4.12.3)\n",
      "Requirement already satisfied: bleach!=5.0.0 in c:\\users\\user\\appdata\\local\\programs\\python\\python312\\lib\\site-packages (from nbconvert->jupyter) (6.2.0)\n",
      "Requirement already satisfied: defusedxml in c:\\users\\user\\appdata\\local\\programs\\python\\python312\\lib\\site-packages (from nbconvert->jupyter) (0.7.1)\n",
      "Requirement already satisfied: jupyterlab-pygments in c:\\users\\user\\appdata\\local\\programs\\python\\python312\\lib\\site-packages (from nbconvert->jupyter) (0.3.0)\n",
      "Requirement already satisfied: markupsafe>=2.0 in c:\\users\\user\\appdata\\local\\programs\\python\\python312\\lib\\site-packages (from nbconvert->jupyter) (3.0.2)\n",
      "Requirement already satisfied: mistune<4,>=2.0.3 in c:\\users\\user\\appdata\\local\\programs\\python\\python312\\lib\\site-packages (from nbconvert->jupyter) (3.0.2)\n",
      "Requirement already satisfied: nbclient>=0.5.0 in c:\\users\\user\\appdata\\local\\programs\\python\\python312\\lib\\site-packages (from nbconvert->jupyter) (0.10.1)\n",
      "Requirement already satisfied: nbformat>=5.7 in c:\\users\\user\\appdata\\local\\programs\\python\\python312\\lib\\site-packages (from nbconvert->jupyter) (5.10.4)\n",
      "Requirement already satisfied: pandocfilters>=1.4.1 in c:\\users\\user\\appdata\\local\\programs\\python\\python312\\lib\\site-packages (from nbconvert->jupyter) (1.5.1)\n",
      "Requirement already satisfied: tinycss2 in c:\\users\\user\\appdata\\local\\programs\\python\\python312\\lib\\site-packages (from nbconvert->jupyter) (1.4.0)\n",
      "Collecting jupyterlab (from jupyter)\n",
      "  Using cached jupyterlab-4.2.6-py3-none-any.whl.metadata (16 kB)\n",
      "Requirement already satisfied: webencodings in c:\\users\\user\\appdata\\local\\programs\\python\\python312\\lib\\site-packages (from bleach!=5.0.0->nbconvert->jupyter) (0.5.1)\n",
      "Requirement already satisfied: anyio in c:\\users\\user\\appdata\\local\\programs\\python\\python312\\lib\\site-packages (from httpx>=0.25.0->jupyterlab->jupyter) (4.6.2.post1)\n",
      "Requirement already satisfied: httpcore==1.* in c:\\users\\user\\appdata\\local\\programs\\python\\python312\\lib\\site-packages (from httpx>=0.25.0->jupyterlab->jupyter) (1.0.7)\n",
      "Requirement already satisfied: h11<0.15,>=0.13 in c:\\users\\user\\appdata\\local\\programs\\python\\python312\\lib\\site-packages (from httpcore==1.*->httpx>=0.25.0->jupyterlab->jupyter) (0.14.0)\n",
      "Requirement already satisfied: parso<0.9.0,>=0.8.4 in c:\\users\\user\\appdata\\local\\programs\\python\\python312\\lib\\site-packages (from jedi>=0.16->ipython>=6.1.0->ipywidgets) (0.8.4)\n",
      "Requirement already satisfied: platformdirs>=2.5 in c:\\users\\user\\appdata\\local\\programs\\python\\python312\\lib\\site-packages (from jupyter-core!=5.0.*,>=4.12->ipykernel->jupyter) (4.3.6)\n",
      "Requirement already satisfied: pywin32>=300 in c:\\users\\user\\appdata\\local\\programs\\python\\python312\\lib\\site-packages (from jupyter-core!=5.0.*,>=4.12->ipykernel->jupyter) (308)\n",
      "Requirement already satisfied: argon2-cffi>=21.1 in c:\\users\\user\\appdata\\local\\programs\\python\\python312\\lib\\site-packages (from jupyter-server<3,>=2.4.0->jupyterlab->jupyter) (23.1.0)\n",
      "Requirement already satisfied: jupyter-events>=0.9.0 in c:\\users\\user\\appdata\\local\\programs\\python\\python312\\lib\\site-packages (from jupyter-server<3,>=2.4.0->jupyterlab->jupyter) (0.10.0)\n",
      "Requirement already satisfied: jupyter-server-terminals>=0.4.4 in c:\\users\\user\\appdata\\local\\programs\\python\\python312\\lib\\site-packages (from jupyter-server<3,>=2.4.0->jupyterlab->jupyter) (0.5.3)\n",
      "Requirement already satisfied: overrides>=5.0 in c:\\users\\user\\appdata\\local\\programs\\python\\python312\\lib\\site-packages (from jupyter-server<3,>=2.4.0->jupyterlab->jupyter) (7.7.0)\n",
      "Requirement already satisfied: prometheus-client>=0.9 in c:\\users\\user\\appdata\\local\\programs\\python\\python312\\lib\\site-packages (from jupyter-server<3,>=2.4.0->jupyterlab->jupyter) (0.21.0)\n",
      "Requirement already satisfied: pywinpty>=2.0.1 in c:\\users\\user\\appdata\\local\\programs\\python\\python312\\lib\\site-packages (from jupyter-server<3,>=2.4.0->jupyterlab->jupyter) (2.0.14)\n",
      "Requirement already satisfied: send2trash>=1.8.2 in c:\\users\\user\\appdata\\local\\programs\\python\\python312\\lib\\site-packages (from jupyter-server<3,>=2.4.0->jupyterlab->jupyter) (1.8.3)\n",
      "Requirement already satisfied: terminado>=0.8.3 in c:\\users\\user\\appdata\\local\\programs\\python\\python312\\lib\\site-packages (from jupyter-server<3,>=2.4.0->jupyterlab->jupyter) (0.18.1)\n",
      "Requirement already satisfied: websocket-client>=1.7 in c:\\users\\user\\appdata\\local\\programs\\python\\python312\\lib\\site-packages (from jupyter-server<3,>=2.4.0->jupyterlab->jupyter) (1.8.0)\n",
      "Requirement already satisfied: babel>=2.10 in c:\\users\\user\\appdata\\local\\programs\\python\\python312\\lib\\site-packages (from jupyterlab-server<3,>=2.27.1->jupyterlab->jupyter) (2.16.0)\n",
      "Requirement already satisfied: json5>=0.9.0 in c:\\users\\user\\appdata\\local\\programs\\python\\python312\\lib\\site-packages (from jupyterlab-server<3,>=2.27.1->jupyterlab->jupyter) (0.10.0)\n",
      "Requirement already satisfied: jsonschema>=4.18.0 in c:\\users\\user\\appdata\\local\\programs\\python\\python312\\lib\\site-packages (from jupyterlab-server<3,>=2.27.1->jupyterlab->jupyter) (4.23.0)\n",
      "Requirement already satisfied: fastjsonschema>=2.15 in c:\\users\\user\\appdata\\local\\programs\\python\\python312\\lib\\site-packages (from nbformat>=5.7->nbconvert->jupyter) (2.21.0)\n",
      "Requirement already satisfied: wcwidth in c:\\users\\user\\appdata\\local\\programs\\python\\python312\\lib\\site-packages (from prompt_toolkit<3.1.0,>=3.0.41->ipython>=6.1.0->ipywidgets) (0.2.13)\n",
      "Requirement already satisfied: soupsieve>1.2 in c:\\users\\user\\appdata\\local\\programs\\python\\python312\\lib\\site-packages (from beautifulsoup4->nbconvert->jupyter) (2.6)\n",
      "Requirement already satisfied: executing>=1.2.0 in c:\\users\\user\\appdata\\local\\programs\\python\\python312\\lib\\site-packages (from stack_data->ipython>=6.1.0->ipywidgets) (2.1.0)\n",
      "Requirement already satisfied: asttokens>=2.1.0 in c:\\users\\user\\appdata\\local\\programs\\python\\python312\\lib\\site-packages (from stack_data->ipython>=6.1.0->ipywidgets) (3.0.0)\n",
      "Requirement already satisfied: pure-eval in c:\\users\\user\\appdata\\local\\programs\\python\\python312\\lib\\site-packages (from stack_data->ipython>=6.1.0->ipywidgets) (0.2.3)\n",
      "Requirement already satisfied: sniffio>=1.1 in c:\\users\\user\\appdata\\local\\programs\\python\\python312\\lib\\site-packages (from anyio->httpx>=0.25.0->jupyterlab->jupyter) (1.3.1)\n",
      "Requirement already satisfied: argon2-cffi-bindings in c:\\users\\user\\appdata\\local\\programs\\python\\python312\\lib\\site-packages (from argon2-cffi>=21.1->jupyter-server<3,>=2.4.0->jupyterlab->jupyter) (21.2.0)\n",
      "Requirement already satisfied: jsonschema-specifications>=2023.03.6 in c:\\users\\user\\appdata\\local\\programs\\python\\python312\\lib\\site-packages (from jsonschema>=4.18.0->jupyterlab-server<3,>=2.27.1->jupyterlab->jupyter) (2024.10.1)\n",
      "Requirement already satisfied: referencing>=0.28.4 in c:\\users\\user\\appdata\\local\\programs\\python\\python312\\lib\\site-packages (from jsonschema>=4.18.0->jupyterlab-server<3,>=2.27.1->jupyterlab->jupyter) (0.35.1)\n",
      "Requirement already satisfied: rpds-py>=0.7.1 in c:\\users\\user\\appdata\\local\\programs\\python\\python312\\lib\\site-packages (from jsonschema>=4.18.0->jupyterlab-server<3,>=2.27.1->jupyterlab->jupyter) (0.21.0)\n",
      "Requirement already satisfied: python-json-logger>=2.0.4 in c:\\users\\user\\appdata\\local\\programs\\python\\python312\\lib\\site-packages (from jupyter-events>=0.9.0->jupyter-server<3,>=2.4.0->jupyterlab->jupyter) (2.0.7)\n",
      "Requirement already satisfied: rfc3339-validator in c:\\users\\user\\appdata\\local\\programs\\python\\python312\\lib\\site-packages (from jupyter-events>=0.9.0->jupyter-server<3,>=2.4.0->jupyterlab->jupyter) (0.1.4)\n",
      "Requirement already satisfied: rfc3986-validator>=0.1.1 in c:\\users\\user\\appdata\\local\\programs\\python\\python312\\lib\\site-packages (from jupyter-events>=0.9.0->jupyter-server<3,>=2.4.0->jupyterlab->jupyter) (0.1.1)\n",
      "Requirement already satisfied: fqdn in c:\\users\\user\\appdata\\local\\programs\\python\\python312\\lib\\site-packages (from jsonschema[format-nongpl]>=4.18.0->jupyter-events>=0.9.0->jupyter-server<3,>=2.4.0->jupyterlab->jupyter) (1.5.1)\n",
      "Requirement already satisfied: isoduration in c:\\users\\user\\appdata\\local\\programs\\python\\python312\\lib\\site-packages (from jsonschema[format-nongpl]>=4.18.0->jupyter-events>=0.9.0->jupyter-server<3,>=2.4.0->jupyterlab->jupyter) (20.11.0)\n",
      "Requirement already satisfied: jsonpointer>1.13 in c:\\users\\user\\appdata\\local\\programs\\python\\python312\\lib\\site-packages (from jsonschema[format-nongpl]>=4.18.0->jupyter-events>=0.9.0->jupyter-server<3,>=2.4.0->jupyterlab->jupyter) (3.0.0)\n",
      "Requirement already satisfied: uri-template in c:\\users\\user\\appdata\\local\\programs\\python\\python312\\lib\\site-packages (from jsonschema[format-nongpl]>=4.18.0->jupyter-events>=0.9.0->jupyter-server<3,>=2.4.0->jupyterlab->jupyter) (1.3.0)\n",
      "Requirement already satisfied: webcolors>=24.6.0 in c:\\users\\user\\appdata\\local\\programs\\python\\python312\\lib\\site-packages (from jsonschema[format-nongpl]>=4.18.0->jupyter-events>=0.9.0->jupyter-server<3,>=2.4.0->jupyterlab->jupyter) (24.11.1)\n",
      "Requirement already satisfied: cffi>=1.0.1 in c:\\users\\user\\appdata\\local\\programs\\python\\python312\\lib\\site-packages (from argon2-cffi-bindings->argon2-cffi>=21.1->jupyter-server<3,>=2.4.0->jupyterlab->jupyter) (1.17.1)\n",
      "Requirement already satisfied: pycparser in c:\\users\\user\\appdata\\local\\programs\\python\\python312\\lib\\site-packages (from cffi>=1.0.1->argon2-cffi-bindings->argon2-cffi>=21.1->jupyter-server<3,>=2.4.0->jupyterlab->jupyter) (2.22)\n",
      "Requirement already satisfied: arrow>=0.15.0 in c:\\users\\user\\appdata\\local\\programs\\python\\python312\\lib\\site-packages (from isoduration->jsonschema[format-nongpl]>=4.18.0->jupyter-events>=0.9.0->jupyter-server<3,>=2.4.0->jupyterlab->jupyter) (1.3.0)\n",
      "Requirement already satisfied: types-python-dateutil>=2.8.10 in c:\\users\\user\\appdata\\local\\programs\\python\\python312\\lib\\site-packages (from arrow>=0.15.0->isoduration->jsonschema[format-nongpl]>=4.18.0->jupyter-events>=0.9.0->jupyter-server<3,>=2.4.0->jupyterlab->jupyter) (2.9.0.20241003)\n",
      "Using cached dill-0.3.8-py3-none-any.whl (116 kB)\n",
      "Using cached fsspec-2024.9.0-py3-none-any.whl (179 kB)\n",
      "Using cached multiprocess-0.70.16-py312-none-any.whl (146 kB)\n",
      "Using cached tokenizers-0.20.3-cp312-none-win_amd64.whl (2.4 MB)\n",
      "Using cached jupyterlab-4.2.6-py3-none-any.whl (11.6 MB)\n",
      "Installing collected packages: fsspec, dill, multiprocess, tokenizers, jupyterlab\n",
      "  Attempting uninstall: fsspec\n",
      "    Found existing installation: fsspec 2024.10.0\n",
      "    Uninstalling fsspec-2024.10.0:\n",
      "      Successfully uninstalled fsspec-2024.10.0\n",
      "  Attempting uninstall: dill\n",
      "    Found existing installation: dill 0.3.9\n",
      "    Uninstalling dill-0.3.9:\n",
      "      Successfully uninstalled dill-0.3.9\n",
      "  Attempting uninstall: multiprocess\n",
      "    Found existing installation: multiprocess 0.70.17\n",
      "    Uninstalling multiprocess-0.70.17:\n",
      "      Successfully uninstalled multiprocess-0.70.17\n",
      "  Attempting uninstall: tokenizers\n",
      "    Found existing installation: tokenizers 0.21.0\n",
      "    Uninstalling tokenizers-0.21.0:\n",
      "      Successfully uninstalled tokenizers-0.21.0\n",
      "  Attempting uninstall: jupyterlab\n",
      "    Found existing installation: jupyterlab 4.3.1\n",
      "    Uninstalling jupyterlab-4.3.1:\n",
      "      Successfully uninstalled jupyterlab-4.3.1\n",
      "Successfully installed dill-0.3.8 fsspec-2024.9.0 jupyterlab-4.2.6 multiprocess-0.70.16 tokenizers-0.20.3\n",
      "Note: you may need to restart the kernel to use updated packages.\n"
     ]
    },
    {
     "name": "stderr",
     "output_type": "stream",
     "text": [
      "ERROR: pip's dependency resolver does not currently take into account all the packages that are installed. This behaviour is the source of the following dependency conflicts.\n",
      "torch 2.5.1+cu124 requires sympy==1.13.1; python_version >= \"3.9\", but you have sympy 1.13.3 which is incompatible.\n"
     ]
    },
    {
     "name": "stdout",
     "output_type": "stream",
     "text": [
      "Looking in indexes: https://download.pytorch.org/whl/cu124\n",
      "Requirement already satisfied: torch in c:\\users\\user\\appdata\\local\\programs\\python\\python312\\lib\\site-packages (2.5.1+cu124)\n",
      "Requirement already satisfied: torchvision in c:\\users\\user\\appdata\\local\\programs\\python\\python312\\lib\\site-packages (0.20.1+cu124)\n",
      "Requirement already satisfied: torchaudio in c:\\users\\user\\appdata\\local\\programs\\python\\python312\\lib\\site-packages (2.5.1+cu124)\n",
      "Requirement already satisfied: filelock in c:\\users\\user\\appdata\\local\\programs\\python\\python312\\lib\\site-packages (from torch) (3.16.1)\n",
      "Requirement already satisfied: typing-extensions>=4.8.0 in c:\\users\\user\\appdata\\local\\programs\\python\\python312\\lib\\site-packages (from torch) (4.12.2)\n",
      "Requirement already satisfied: networkx in c:\\users\\user\\appdata\\local\\programs\\python\\python312\\lib\\site-packages (from torch) (3.4.2)\n",
      "Requirement already satisfied: jinja2 in c:\\users\\user\\appdata\\local\\programs\\python\\python312\\lib\\site-packages (from torch) (3.1.4)\n",
      "Requirement already satisfied: fsspec in c:\\users\\user\\appdata\\local\\programs\\python\\python312\\lib\\site-packages (from torch) (2024.9.0)\n",
      "Requirement already satisfied: setuptools in c:\\users\\user\\appdata\\local\\programs\\python\\python312\\lib\\site-packages (from torch) (75.6.0)\n",
      "Collecting sympy==1.13.1 (from torch)\n",
      "  Using cached https://download.pytorch.org/whl/sympy-1.13.1-py3-none-any.whl (6.2 MB)\n",
      "Requirement already satisfied: mpmath<1.4,>=1.1.0 in c:\\users\\user\\appdata\\local\\programs\\python\\python312\\lib\\site-packages (from sympy==1.13.1->torch) (1.3.0)\n",
      "Requirement already satisfied: numpy in c:\\users\\user\\appdata\\local\\programs\\python\\python312\\lib\\site-packages (from torchvision) (2.1.3)\n",
      "Requirement already satisfied: pillow!=8.3.*,>=5.3.0 in c:\\users\\user\\appdata\\local\\programs\\python\\python312\\lib\\site-packages (from torchvision) (11.0.0)\n",
      "Requirement already satisfied: MarkupSafe>=2.0 in c:\\users\\user\\appdata\\local\\programs\\python\\python312\\lib\\site-packages (from jinja2->torch) (3.0.2)\n",
      "Installing collected packages: sympy\n",
      "  Attempting uninstall: sympy\n",
      "    Found existing installation: sympy 1.13.3\n",
      "    Uninstalling sympy-1.13.3:\n",
      "      Successfully uninstalled sympy-1.13.3\n",
      "Successfully installed sympy-1.13.1\n",
      "Note: you may need to restart the kernel to use updated packages.\n"
     ]
    }
   ],
   "source": [
    "%pip install transformers datasets pandas numpy jupyter tqdm ipywidgets matplotlib evaluate absl-py nltk-datasets rouge-score\n",
    "%pip install torch torchvision torchaudio --index-url https://download.pytorch.org/whl/cu124"
   ]
  },
  {
   "cell_type": "markdown",
   "metadata": {},
   "source": [
    "#### Load and Preprocess the Data"
   ]
  },
  {
   "cell_type": "code",
   "execution_count": 4,
   "metadata": {},
   "outputs": [
    {
     "name": "stdout",
     "output_type": "stream",
     "text": [
      "Train data: 498 samples\n",
      "Dev data: 42 samples\n",
      "Test data: 253 samples\n",
      "Sample from train data:\n",
      "                                            question         answer  \\\n",
      "0  What is the most common reason for a lot of au...  Disconnecting   \n",
      "1          What program failed to pass the password?           uucp   \n",
      "2                         Who resets the connection?           peer   \n",
      "3         What port did the user butter fail to use?          48369   \n",
      "4           What is the status of the user postgres?        Invalid   \n",
      "\n",
      "                                             context  \n",
      "0  Disconnecting: Too many authentication failure...  \n",
      "1  Failed password for uucp from 103.207.39.16 po...  \n",
      "2  fatal: Write failed: Connection reset by peer ...  \n",
      "3  Failed password for invalid user butter from 1...  \n",
      "4         Invalid user postgres from 187.141.143.180  \n",
      "Train data: 498 samples\n",
      "Dev data: 42 samples\n",
      "Test data: 253 samples\n",
      "Sample from train data:\n",
      "                                            question         answer  \\\n",
      "0  What is the most common reason for a lot of au...  Disconnecting   \n",
      "1          What program failed to pass the password?           uucp   \n",
      "2                         Who resets the connection?           peer   \n",
      "3         What port did the user butter fail to use?          48369   \n",
      "4           What is the status of the user postgres?        Invalid   \n",
      "\n",
      "                                             context  \n",
      "0  Disconnecting: Too many authentication failure...  \n",
      "1  Failed password for uucp from 103.207.39.16 po...  \n",
      "2  fatal: Write failed: Connection reset by peer ...  \n",
      "3  Failed password for invalid user butter from 1...  \n",
      "4         Invalid user postgres from 187.141.143.180  \n"
     ]
    }
   ],
   "source": [
    "import os\n",
    "import json\n",
    "import pandas as pd\n",
    "from datasets import Dataset, DatasetDict\n",
    "from transformers import AutoTokenizer\n",
    "\n",
    "# Path to the data directory\n",
    "data_dir = r'D:\\SLLIM\\data\\processed'  # Replace with your actual directory\n",
    "\n",
    "# Load the datasets\n",
    "def load_json(file_path):\n",
    "    with open(file_path, 'r', encoding='utf-8') as file:\n",
    "        return json.load(file)\n",
    "\n",
    "train_data = load_json(os.path.join(data_dir, 'train.json'))\n",
    "dev_data = load_json(os.path.join(data_dir, 'dev.json'))\n",
    "test_data = load_json(os.path.join(data_dir, 'test.json'))\n",
    "\n",
    "# Convert the data to pandas DataFrames\n",
    "train_df = pd.DataFrame(train_data)\n",
    "dev_df = pd.DataFrame(dev_data)\n",
    "test_df = pd.DataFrame(test_data)\n",
    "\n",
    "# Verify the structure of the datasets\n",
    "print(f\"Train data: {len(train_data)} samples\")\n",
    "print(f\"Dev data: {len(dev_data)} samples\")\n",
    "print(f\"Test data: {len(test_data)} samples\")\n",
    "\n",
    "# Display a sample from each dataset\n",
    "print(\"Sample from train data:\")\n",
    "print(train_df.head())\n",
    "\n",
    "\n",
    "import os\n",
    "import json\n",
    "import pandas as pd\n",
    "from datasets import Dataset, DatasetDict\n",
    "from transformers import AutoTokenizer\n",
    "\n",
    "# Path to the data directory\n",
    "data_dir = r'D:\\SLLIM\\data\\processed'\n",
    "\n",
    "# Load the datasets\n",
    "def load_json(file_path):\n",
    "    with open(file_path, 'r', encoding='utf-8') as file:\n",
    "        return json.load(file)\n",
    "\n",
    "train_data = load_json(os.path.join(data_dir, 'train.json'))\n",
    "dev_data = load_json(os.path.join(data_dir, 'dev.json'))\n",
    "test_data = load_json(os.path.join(data_dir, 'test.json'))\n",
    "\n",
    "# Convert the data to pandas DataFrames\n",
    "train_df = pd.DataFrame(train_data)\n",
    "dev_df = pd.DataFrame(dev_data)\n",
    "test_df = pd.DataFrame(test_data)\n",
    "\n",
    "# Verify the structure of the datasets\n",
    "print(f\"Train data: {len(train_data)} samples\")\n",
    "print(f\"Dev data: {len(dev_data)} samples\")\n",
    "print(f\"Test data: {len(test_data)} samples\")\n",
    "\n",
    "# Display a sample from each dataset\n",
    "print(\"Sample from train data:\")\n",
    "print(train_df.head())"
   ]
  },
  {
   "cell_type": "markdown",
   "metadata": {},
   "source": [
    "#### Tokenization and Span Extraction"
   ]
  },
  {
   "cell_type": "code",
   "execution_count": 4,
   "metadata": {},
   "outputs": [],
   "source": [
    "from transformers import AutoTokenizer\n",
    "\n",
    "# Load the tokenizer\n",
    "tokenizer = AutoTokenizer.from_pretrained(\"roberta-base\")  # Change model as needed\n",
    "\n",
    "# Tokenize and compute answer spans\n",
    "def preprocess_data(examples):\n",
    "    \"\"\"\n",
    "    Tokenizes the dataset and computes start and end positions of the answer.\n",
    "    \"\"\"\n",
    "    tokenized = tokenizer(\n",
    "        examples[\"question\"],\n",
    "        examples[\"context\"],\n",
    "        truncation=True,\n",
    "        padding=\"max_length\",\n",
    "        max_length=512,\n",
    "        return_offsets_mapping=True,  # Return token-to-text mapping\n",
    "    )\n",
    "    start_positions = []\n",
    "    end_positions = []\n",
    "\n",
    "    for i, offsets in enumerate(tokenized[\"offset_mapping\"]):\n",
    "        context = examples[\"context\"][i]\n",
    "        answer = examples[\"answer\"][i]\n",
    "        start_idx = context.find(answer)\n",
    "        end_idx = start_idx + len(answer)\n",
    "\n",
    "        # If the answer is not found, set to 0 (default behavior for no-answer)\n",
    "        if start_idx == -1 or end_idx == -1:\n",
    "            start_positions.append(0)\n",
    "            end_positions.append(0)\n",
    "        else:\n",
    "            # Locate token start and end positions\n",
    "            token_start = token_end = None\n",
    "            for idx, (start, end) in enumerate(offsets):\n",
    "                if start <= start_idx < end:\n",
    "                    token_start = idx\n",
    "                if start < end_idx <= end:\n",
    "                    token_end = idx\n",
    "            if token_start is None or token_end is None:\n",
    "                start_positions.append(0)\n",
    "                end_positions.append(0)\n",
    "            else:\n",
    "                start_positions.append(token_start)\n",
    "                end_positions.append(token_end)\n",
    "\n",
    "    # Remove offset mappings as they are no longer needed\n",
    "    tokenized.pop(\"offset_mapping\")\n",
    "\n",
    "    # Add start_positions and end_positions\n",
    "    tokenized[\"start_positions\"] = start_positions\n",
    "    tokenized[\"end_positions\"] = end_positions\n",
    "    return tokenized\n"
   ]
  },
  {
   "cell_type": "markdown",
   "metadata": {},
   "source": [
    "#### Apply Preprocessing to the Dataset"
   ]
  },
  {
   "cell_type": "code",
   "execution_count": 5,
   "metadata": {},
   "outputs": [
    {
     "name": "stderr",
     "output_type": "stream",
     "text": [
      "Parameter 'function'=<function preprocess_data at 0x000001FBF9C82AC0> of the transform datasets.arrow_dataset.Dataset._map_single couldn't be hashed properly, a random hash was used instead. Make sure your transforms and parameters are serializable with pickle or dill for the dataset fingerprinting and caching to work. If you reuse this transform, the caching mechanism will consider it to be different from the previous calls and recompute everything. This warning is only showed once. Subsequent hashing failures won't be showed.\n"
     ]
    },
    {
     "data": {
      "application/vnd.jupyter.widget-view+json": {
       "model_id": "3e81cacd3eb54e7da2345f6f7d682f9d",
       "version_major": 2,
       "version_minor": 0
      },
      "text/plain": [
       "Map:   0%|          | 0/498 [00:00<?, ? examples/s]"
      ]
     },
     "metadata": {},
     "output_type": "display_data"
    },
    {
     "data": {
      "application/vnd.jupyter.widget-view+json": {
       "model_id": "98f05a27a61b445997b6de05d47ba986",
       "version_major": 2,
       "version_minor": 0
      },
      "text/plain": [
       "Map:   0%|          | 0/42 [00:00<?, ? examples/s]"
      ]
     },
     "metadata": {},
     "output_type": "display_data"
    },
    {
     "data": {
      "application/vnd.jupyter.widget-view+json": {
       "model_id": "2287d7532d854d4fa5377acc7dba40f7",
       "version_major": 2,
       "version_minor": 0
      },
      "text/plain": [
       "Map:   0%|          | 0/253 [00:00<?, ? examples/s]"
      ]
     },
     "metadata": {},
     "output_type": "display_data"
    },
    {
     "name": "stdout",
     "output_type": "stream",
     "text": [
      "Dataset prepared for training!\n",
      "DatasetDict({\n",
      "    train: Dataset({\n",
      "        features: ['input_ids', 'attention_mask', 'start_positions', 'end_positions'],\n",
      "        num_rows: 498\n",
      "    })\n",
      "    validation: Dataset({\n",
      "        features: ['input_ids', 'attention_mask', 'start_positions', 'end_positions'],\n",
      "        num_rows: 42\n",
      "    })\n",
      "    test: Dataset({\n",
      "        features: ['input_ids', 'attention_mask', 'start_positions', 'end_positions'],\n",
      "        num_rows: 253\n",
      "    })\n",
      "})\n"
     ]
    }
   ],
   "source": [
    "from datasets import Dataset\n",
    "\n",
    "# Convert pandas DataFrames to Hugging Face Dataset\n",
    "train_dataset = Dataset.from_pandas(train_df)\n",
    "dev_dataset = Dataset.from_pandas(dev_df)\n",
    "test_dataset = Dataset.from_pandas(test_df)\n",
    "\n",
    "# Apply preprocessing\n",
    "train_dataset = train_dataset.map(preprocess_data, batched=True, remove_columns=[\"question\", \"context\", \"answer\"])\n",
    "dev_dataset = dev_dataset.map(preprocess_data, batched=True, remove_columns=[\"question\", \"context\", \"answer\"])\n",
    "test_dataset = test_dataset.map(preprocess_data, batched=True, remove_columns=[\"question\", \"context\", \"answer\"])\n",
    "\n",
    "# Combine into a DatasetDict\n",
    "dataset_dict = DatasetDict({\n",
    "    \"train\": train_dataset,\n",
    "    \"validation\": dev_dataset,\n",
    "    \"test\": test_dataset,\n",
    "})\n",
    "\n",
    "print(\"Dataset prepared for training!\")\n",
    "print(dataset_dict)\n"
   ]
  },
  {
   "cell_type": "markdown",
   "metadata": {},
   "source": [
    "#### Fine-Tune the First Model (roberta-base)"
   ]
  },
  {
   "cell_type": "code",
   "execution_count": 6,
   "metadata": {},
   "outputs": [
    {
     "name": "stdout",
     "output_type": "stream",
     "text": [
      "Accelerate version: 1.1.1\n"
     ]
    }
   ],
   "source": [
    "import accelerate\n",
    "print(f\"Accelerate version: {accelerate.__version__}\")\n"
   ]
  },
  {
   "cell_type": "code",
   "execution_count": 7,
   "metadata": {},
   "outputs": [
    {
     "name": "stderr",
     "output_type": "stream",
     "text": [
      "Some weights of RobertaForQuestionAnswering were not initialized from the model checkpoint at roberta-base and are newly initialized: ['qa_outputs.bias', 'qa_outputs.weight']\n",
      "You should probably TRAIN this model on a down-stream task to be able to use it for predictions and inference.\n",
      "c:\\Users\\user\\AppData\\Local\\Programs\\Python\\Python312\\Lib\\site-packages\\transformers\\training_args.py:1568: FutureWarning: `evaluation_strategy` is deprecated and will be removed in version 4.46 of 🤗 Transformers. Use `eval_strategy` instead\n",
      "  warnings.warn(\n"
     ]
    },
    {
     "data": {
      "application/vnd.jupyter.widget-view+json": {
       "model_id": "59e8b76657f44e44874c2d0b0fae68d6",
       "version_major": 2,
       "version_minor": 0
      },
      "text/plain": [
       "  0%|          | 0/375 [00:00<?, ?it/s]"
      ]
     },
     "metadata": {},
     "output_type": "display_data"
    },
    {
     "name": "stdout",
     "output_type": "stream",
     "text": [
      "{'loss': 5.2788, 'grad_norm': 25.92268943786621, 'learning_rate': 1.9466666666666668e-05, 'epoch': 0.08}\n",
      "{'loss': 3.1595, 'grad_norm': 23.171310424804688, 'learning_rate': 1.8933333333333334e-05, 'epoch': 0.16}\n",
      "{'loss': 2.1771, 'grad_norm': 31.127056121826172, 'learning_rate': 1.8400000000000003e-05, 'epoch': 0.24}\n",
      "{'loss': 1.825, 'grad_norm': 38.047489166259766, 'learning_rate': 1.7866666666666666e-05, 'epoch': 0.32}\n",
      "{'loss': 1.5161, 'grad_norm': 47.78630447387695, 'learning_rate': 1.7333333333333336e-05, 'epoch': 0.4}\n",
      "{'loss': 1.8224, 'grad_norm': 56.672393798828125, 'learning_rate': 1.6800000000000002e-05, 'epoch': 0.48}\n",
      "{'loss': 1.0762, 'grad_norm': 54.57401657104492, 'learning_rate': 1.6266666666666668e-05, 'epoch': 0.56}\n",
      "{'loss': 1.0138, 'grad_norm': 35.3278923034668, 'learning_rate': 1.5733333333333334e-05, 'epoch': 0.64}\n",
      "{'loss': 1.2911, 'grad_norm': 112.92654418945312, 'learning_rate': 1.5200000000000002e-05, 'epoch': 0.72}\n",
      "{'loss': 0.9265, 'grad_norm': 68.97508239746094, 'learning_rate': 1.4666666666666666e-05, 'epoch': 0.8}\n",
      "{'loss': 1.0121, 'grad_norm': 41.87106704711914, 'learning_rate': 1.4133333333333334e-05, 'epoch': 0.88}\n",
      "{'loss': 0.7642, 'grad_norm': 25.21550750732422, 'learning_rate': 1.3600000000000002e-05, 'epoch': 0.96}\n"
     ]
    },
    {
     "data": {
      "application/vnd.jupyter.widget-view+json": {
       "model_id": "ae408ead3cc34a68ad895bf0b138bc39",
       "version_major": 2,
       "version_minor": 0
      },
      "text/plain": [
       "  0%|          | 0/11 [00:00<?, ?it/s]"
      ]
     },
     "metadata": {},
     "output_type": "display_data"
    },
    {
     "name": "stdout",
     "output_type": "stream",
     "text": [
      "{'eval_loss': 0.48414576053619385, 'eval_runtime': 0.3172, 'eval_samples_per_second': 132.399, 'eval_steps_per_second': 34.676, 'epoch': 1.0}\n",
      "{'loss': 0.7831, 'grad_norm': 41.104530334472656, 'learning_rate': 1.3066666666666668e-05, 'epoch': 1.04}\n",
      "{'loss': 0.6128, 'grad_norm': 21.520700454711914, 'learning_rate': 1.2533333333333336e-05, 'epoch': 1.12}\n",
      "{'loss': 0.538, 'grad_norm': 59.76319122314453, 'learning_rate': 1.2e-05, 'epoch': 1.2}\n",
      "{'loss': 0.2917, 'grad_norm': 6.071760654449463, 'learning_rate': 1.1466666666666668e-05, 'epoch': 1.28}\n",
      "{'loss': 0.2938, 'grad_norm': 24.090255737304688, 'learning_rate': 1.0933333333333334e-05, 'epoch': 1.36}\n",
      "{'loss': 0.6404, 'grad_norm': 3.5165231227874756, 'learning_rate': 1.04e-05, 'epoch': 1.44}\n",
      "{'loss': 0.3895, 'grad_norm': 16.0675048828125, 'learning_rate': 9.866666666666668e-06, 'epoch': 1.52}\n",
      "{'loss': 0.3296, 'grad_norm': 16.030729293823242, 'learning_rate': 9.333333333333334e-06, 'epoch': 1.6}\n",
      "{'loss': 0.1887, 'grad_norm': 3.3617360591888428, 'learning_rate': 8.8e-06, 'epoch': 1.68}\n",
      "{'loss': 0.4493, 'grad_norm': 35.43354797363281, 'learning_rate': 8.266666666666667e-06, 'epoch': 1.76}\n",
      "{'loss': 0.3418, 'grad_norm': 0.5374870300292969, 'learning_rate': 7.733333333333334e-06, 'epoch': 1.84}\n",
      "{'loss': 0.3596, 'grad_norm': 90.88286590576172, 'learning_rate': 7.2000000000000005e-06, 'epoch': 1.92}\n",
      "{'loss': 0.2536, 'grad_norm': 337.9164123535156, 'learning_rate': 6.666666666666667e-06, 'epoch': 2.0}\n"
     ]
    },
    {
     "data": {
      "application/vnd.jupyter.widget-view+json": {
       "model_id": "7455eb4015e74e499d9c328352fa534a",
       "version_major": 2,
       "version_minor": 0
      },
      "text/plain": [
       "  0%|          | 0/11 [00:00<?, ?it/s]"
      ]
     },
     "metadata": {},
     "output_type": "display_data"
    },
    {
     "name": "stdout",
     "output_type": "stream",
     "text": [
      "{'eval_loss': 0.3382507860660553, 'eval_runtime': 0.2961, 'eval_samples_per_second': 141.865, 'eval_steps_per_second': 37.155, 'epoch': 2.0}\n",
      "{'loss': 0.1718, 'grad_norm': 62.97704315185547, 'learning_rate': 6.133333333333334e-06, 'epoch': 2.08}\n",
      "{'loss': 0.1158, 'grad_norm': 45.81114196777344, 'learning_rate': 5.600000000000001e-06, 'epoch': 2.16}\n",
      "{'loss': 0.5065, 'grad_norm': 10.29644775390625, 'learning_rate': 5.0666666666666676e-06, 'epoch': 2.24}\n",
      "{'loss': 0.2763, 'grad_norm': 3.220759630203247, 'learning_rate': 4.533333333333334e-06, 'epoch': 2.32}\n",
      "{'loss': 0.1327, 'grad_norm': 8.220817565917969, 'learning_rate': 4.000000000000001e-06, 'epoch': 2.4}\n",
      "{'loss': 0.1115, 'grad_norm': 2.161593198776245, 'learning_rate': 3.4666666666666672e-06, 'epoch': 2.48}\n",
      "{'loss': 0.194, 'grad_norm': 10.968236923217773, 'learning_rate': 2.9333333333333338e-06, 'epoch': 2.56}\n",
      "{'loss': 0.1107, 'grad_norm': 1.4920992851257324, 'learning_rate': 2.4000000000000003e-06, 'epoch': 2.64}\n",
      "{'loss': 0.2193, 'grad_norm': 2.7477240562438965, 'learning_rate': 1.8666666666666669e-06, 'epoch': 2.72}\n",
      "{'loss': 0.3901, 'grad_norm': 0.27975377440452576, 'learning_rate': 1.3333333333333334e-06, 'epoch': 2.8}\n",
      "{'loss': 0.1814, 'grad_norm': 60.56099319458008, 'learning_rate': 8.000000000000001e-07, 'epoch': 2.88}\n",
      "{'loss': 0.2378, 'grad_norm': 17.929746627807617, 'learning_rate': 2.666666666666667e-07, 'epoch': 2.96}\n"
     ]
    },
    {
     "data": {
      "application/vnd.jupyter.widget-view+json": {
       "model_id": "6d09fa47ba3e4e65b3ec71b765eeca42",
       "version_major": 2,
       "version_minor": 0
      },
      "text/plain": [
       "  0%|          | 0/11 [00:00<?, ?it/s]"
      ]
     },
     "metadata": {},
     "output_type": "display_data"
    },
    {
     "name": "stdout",
     "output_type": "stream",
     "text": [
      "{'eval_loss': 0.3882058560848236, 'eval_runtime': 0.3066, 'eval_samples_per_second': 137.008, 'eval_steps_per_second': 35.883, 'epoch': 3.0}\n",
      "{'train_runtime': 49.7227, 'train_samples_per_second': 30.047, 'train_steps_per_second': 7.542, 'train_loss': 0.8027178026835123, 'epoch': 3.0}\n"
     ]
    },
    {
     "data": {
      "application/vnd.jupyter.widget-view+json": {
       "model_id": "dab8b22ac93741a6985e1ec9b0da7df3",
       "version_major": 2,
       "version_minor": 0
      },
      "text/plain": [
       "  0%|          | 0/64 [00:00<?, ?it/s]"
      ]
     },
     "metadata": {},
     "output_type": "display_data"
    },
    {
     "name": "stdout",
     "output_type": "stream",
     "text": [
      "Test Results for `roberta-base`: {'test_loss': 0.3101610541343689, 'test_runtime': 1.7738, 'test_samples_per_second': 142.633, 'test_steps_per_second': 36.081, 'epoch': 3.0}\n"
     ]
    }
   ],
   "source": [
    "from transformers import AutoModelForQuestionAnswering, Trainer, TrainingArguments\n",
    "\n",
    "def fine_tune_roberta(dataset_dict):\n",
    "    \"\"\"\n",
    "    Fine-tunes the `roberta-base` model on the provided dataset.\n",
    "    \n",
    "    Args:\n",
    "        dataset_dict (DatasetDict): Tokenized dataset containing train, validation, and test splits.\n",
    "    \n",
    "    Returns:\n",
    "        dict: Evaluation results on the test set.\n",
    "    \"\"\"\n",
    "    # Step 1: Load the model\n",
    "    model = AutoModelForQuestionAnswering.from_pretrained(\"roberta-base\")\n",
    "\n",
    "    # Step 2: Define training arguments\n",
    "    training_args = TrainingArguments(\n",
    "        output_dir=\"./results_roberta\",\n",
    "        evaluation_strategy=\"epoch\",\n",
    "        learning_rate=2e-5,\n",
    "        per_device_train_batch_size=4,  # Adjust based on GPU memory\n",
    "        per_device_eval_batch_size=4,\n",
    "        num_train_epochs=3,\n",
    "        weight_decay=0.01,\n",
    "        logging_dir=\"./logs_roberta\",\n",
    "        logging_steps=10,\n",
    "        save_strategy=\"epoch\",\n",
    "        save_total_limit=2,  # Keep only the last 2 checkpoints\n",
    "        report_to=\"none\",  # Disable reporting to external services\n",
    "    )\n",
    "\n",
    "    # Step 3: Define the Trainer\n",
    "    trainer = Trainer(\n",
    "        model=model,\n",
    "        args=training_args,\n",
    "        train_dataset=dataset_dict[\"train\"],\n",
    "        eval_dataset=dataset_dict[\"validation\"],\n",
    "    )\n",
    "\n",
    "    # Step 4: Train the model\n",
    "    trainer.train()\n",
    "\n",
    "    # Step 5: Evaluate the model on the test set\n",
    "    test_results = trainer.evaluate(eval_dataset=dataset_dict[\"test\"], metric_key_prefix=\"test\")\n",
    "    print(\"Test Results for `roberta-base`:\", test_results)\n",
    "\n",
    "    return test_results\n",
    "\n",
    "# Fine-tune the first model\n",
    "roberta_results = fine_tune_roberta(dataset_dict)\n"
   ]
  },
  {
   "cell_type": "markdown",
   "metadata": {},
   "source": [
    "###  Fine-Tune the Second Model"
   ]
  },
  {
   "cell_type": "code",
   "execution_count": 8,
   "metadata": {},
   "outputs": [],
   "source": [
    "import os\n",
    "os.environ[\"CUDA_LAUNCH_BLOCKING\"] = \"1\"\n"
   ]
  },
  {
   "cell_type": "code",
   "execution_count": 9,
   "metadata": {},
   "outputs": [
    {
     "name": "stdout",
     "output_type": "stream",
     "text": [
      "Sample from the tokenized training set:\n",
      "{'input_ids': [0, 2264, 16, 5, 144, 1537, 1219, 13, 10, 319, 9, 24790, 12055, 116, 2, 2, 26402, 24501, 154, 35, 12135, 171, 24790, 12055, 13, 28665, 646, 5234, 46217, 742, 2, 1, 1, 1, 1, 1, 1, 1, 1, 1, 1, 1, 1, 1, 1, 1, 1, 1, 1, 1, 1, 1, 1, 1, 1, 1, 1, 1, 1, 1, 1, 1, 1, 1, 1, 1, 1, 1, 1, 1, 1, 1, 1, 1, 1, 1, 1, 1, 1, 1, 1, 1, 1, 1, 1, 1, 1, 1, 1, 1, 1, 1, 1, 1, 1, 1, 1, 1, 1, 1, 1, 1, 1, 1, 1, 1, 1, 1, 1, 1, 1, 1, 1, 1, 1, 1, 1, 1, 1, 1, 1, 1, 1, 1, 1, 1, 1, 1, 1, 1, 1, 1, 1, 1, 1, 1, 1, 1, 1, 1, 1, 1, 1, 1, 1, 1, 1, 1, 1, 1, 1, 1, 1, 1, 1, 1, 1, 1, 1, 1, 1, 1, 1, 1, 1, 1, 1, 1, 1, 1, 1, 1, 1, 1, 1, 1, 1, 1, 1, 1, 1, 1, 1, 1, 1, 1, 1, 1, 1, 1, 1, 1, 1, 1, 1, 1, 1, 1, 1, 1, 1, 1, 1, 1, 1, 1, 1, 1, 1, 1, 1, 1, 1, 1, 1, 1, 1, 1, 1, 1, 1, 1, 1, 1, 1, 1, 1, 1, 1, 1, 1, 1, 1, 1, 1, 1, 1, 1, 1, 1, 1, 1, 1, 1, 1, 1, 1, 1, 1, 1, 1, 1, 1, 1, 1, 1, 1, 1, 1, 1, 1, 1, 1, 1, 1, 1, 1, 1, 1, 1, 1, 1, 1, 1, 1, 1, 1, 1, 1, 1, 1, 1, 1, 1, 1, 1, 1, 1, 1, 1, 1, 1, 1, 1, 1, 1, 1, 1, 1, 1, 1, 1, 1, 1, 1, 1, 1, 1, 1, 1, 1, 1, 1, 1, 1, 1, 1, 1, 1, 1, 1, 1, 1, 1, 1, 1, 1, 1, 1, 1, 1, 1, 1, 1, 1, 1, 1, 1, 1, 1, 1, 1, 1, 1, 1, 1, 1, 1, 1, 1, 1, 1, 1, 1, 1, 1, 1, 1, 1, 1, 1, 1, 1, 1, 1, 1, 1, 1, 1, 1, 1, 1, 1, 1, 1, 1, 1, 1, 1, 1, 1, 1, 1, 1, 1, 1, 1, 1, 1, 1, 1, 1, 1, 1, 1, 1, 1, 1, 1, 1, 1, 1, 1, 1, 1, 1, 1, 1, 1, 1, 1, 1, 1, 1, 1, 1, 1, 1, 1, 1, 1, 1, 1, 1, 1, 1, 1, 1, 1, 1, 1, 1, 1, 1, 1, 1, 1, 1, 1, 1, 1, 1, 1, 1, 1, 1, 1, 1, 1, 1, 1, 1, 1, 1, 1, 1, 1, 1, 1, 1, 1, 1, 1, 1, 1, 1, 1, 1, 1, 1, 1, 1, 1, 1, 1, 1, 1, 1, 1, 1, 1, 1, 1, 1, 1, 1, 1, 1, 1, 1, 1, 1, 1, 1, 1, 1, 1, 1, 1, 1, 1, 1, 1, 1, 1, 1, 1, 1, 1, 1, 1, 1], 'attention_mask': [1, 1, 1, 1, 1, 1, 1, 1, 1, 1, 1, 1, 1, 1, 1, 1, 1, 1, 1, 1, 1, 1, 1, 1, 1, 1, 1, 1, 1, 1, 1, 0, 0, 0, 0, 0, 0, 0, 0, 0, 0, 0, 0, 0, 0, 0, 0, 0, 0, 0, 0, 0, 0, 0, 0, 0, 0, 0, 0, 0, 0, 0, 0, 0, 0, 0, 0, 0, 0, 0, 0, 0, 0, 0, 0, 0, 0, 0, 0, 0, 0, 0, 0, 0, 0, 0, 0, 0, 0, 0, 0, 0, 0, 0, 0, 0, 0, 0, 0, 0, 0, 0, 0, 0, 0, 0, 0, 0, 0, 0, 0, 0, 0, 0, 0, 0, 0, 0, 0, 0, 0, 0, 0, 0, 0, 0, 0, 0, 0, 0, 0, 0, 0, 0, 0, 0, 0, 0, 0, 0, 0, 0, 0, 0, 0, 0, 0, 0, 0, 0, 0, 0, 0, 0, 0, 0, 0, 0, 0, 0, 0, 0, 0, 0, 0, 0, 0, 0, 0, 0, 0, 0, 0, 0, 0, 0, 0, 0, 0, 0, 0, 0, 0, 0, 0, 0, 0, 0, 0, 0, 0, 0, 0, 0, 0, 0, 0, 0, 0, 0, 0, 0, 0, 0, 0, 0, 0, 0, 0, 0, 0, 0, 0, 0, 0, 0, 0, 0, 0, 0, 0, 0, 0, 0, 0, 0, 0, 0, 0, 0, 0, 0, 0, 0, 0, 0, 0, 0, 0, 0, 0, 0, 0, 0, 0, 0, 0, 0, 0, 0, 0, 0, 0, 0, 0, 0, 0, 0, 0, 0, 0, 0, 0, 0, 0, 0, 0, 0, 0, 0, 0, 0, 0, 0, 0, 0, 0, 0, 0, 0, 0, 0, 0, 0, 0, 0, 0, 0, 0, 0, 0, 0, 0, 0, 0, 0, 0, 0, 0, 0, 0, 0, 0, 0, 0, 0, 0, 0, 0, 0, 0, 0, 0, 0, 0, 0, 0, 0, 0, 0, 0, 0, 0, 0, 0, 0, 0, 0, 0, 0, 0, 0, 0, 0, 0, 0, 0, 0, 0, 0, 0, 0, 0, 0, 0, 0, 0, 0, 0, 0, 0, 0, 0, 0, 0, 0, 0, 0, 0, 0, 0, 0, 0, 0, 0, 0, 0, 0, 0, 0, 0, 0, 0, 0, 0, 0, 0, 0, 0, 0, 0, 0, 0, 0, 0, 0, 0, 0, 0, 0, 0, 0, 0, 0, 0, 0, 0, 0, 0, 0, 0, 0, 0, 0, 0, 0, 0, 0, 0, 0, 0, 0, 0, 0, 0, 0, 0, 0, 0, 0, 0, 0, 0, 0, 0, 0, 0, 0, 0, 0, 0, 0, 0, 0, 0, 0, 0, 0, 0, 0, 0, 0, 0, 0, 0, 0, 0, 0, 0, 0, 0, 0, 0, 0, 0, 0, 0, 0, 0, 0, 0, 0, 0, 0, 0, 0, 0, 0, 0, 0, 0, 0, 0, 0, 0, 0, 0, 0, 0, 0, 0, 0, 0, 0, 0, 0, 0, 0, 0, 0, 0, 0, 0, 0, 0, 0, 0, 0, 0, 0, 0, 0, 0, 0, 0, 0, 0, 0, 0, 0, 0, 0], 'start_positions': 16, 'end_positions': 18}\n"
     ]
    }
   ],
   "source": [
    "print(\"Sample from the tokenized training set:\")\n",
    "print(dataset_dict[\"train\"][0])  # Print the first training example\n"
   ]
  },
  {
   "cell_type": "code",
   "execution_count": 10,
   "metadata": {},
   "outputs": [],
   "source": [
    "for split in [\"train\", \"validation\", \"test\"]:\n",
    "    for idx, example in enumerate(dataset_dict[split]):\n",
    "        if not (0 <= example[\"start_positions\"] < len(example[\"input_ids\"])):\n",
    "            print(f\"Invalid start position in {split} at index {idx}\")\n",
    "        if not (0 <= example[\"end_positions\"] < len(example[\"input_ids\"])):\n",
    "            print(f\"Invalid end position in {split} at index {idx}\")\n"
   ]
  },
  {
   "cell_type": "code",
   "execution_count": 11,
   "metadata": {},
   "outputs": [
    {
     "name": "stdout",
     "output_type": "stream",
     "text": [
      "Input IDs: [26402, 24501, 154]\n"
     ]
    }
   ],
   "source": [
    "for idx, example in enumerate(dataset_dict[\"train\"]):\n",
    "    start = example[\"start_positions\"]\n",
    "    end = example[\"end_positions\"]\n",
    "    print(f\"Input IDs: {example['input_ids'][start:end+1]}\")\n",
    "    break  # Stop after one example\n"
   ]
  },
  {
   "cell_type": "code",
   "execution_count": 12,
   "metadata": {},
   "outputs": [
    {
     "name": "stdout",
     "output_type": "stream",
     "text": [
      "{'input_ids': [tensor([0]), tensor([2264]), tensor([16]), tensor([5]), tensor([144]), tensor([1537]), tensor([1219]), tensor([13]), tensor([10]), tensor([319]), tensor([9]), tensor([24790]), tensor([12055]), tensor([116]), tensor([2]), tensor([2]), tensor([26402]), tensor([24501]), tensor([154]), tensor([35]), tensor([12135]), tensor([171]), tensor([24790]), tensor([12055]), tensor([13]), tensor([28665]), tensor([646]), tensor([5234]), tensor([46217]), tensor([742]), tensor([2]), tensor([1]), tensor([1]), tensor([1]), tensor([1]), tensor([1]), tensor([1]), tensor([1]), tensor([1]), tensor([1]), tensor([1]), tensor([1]), tensor([1]), tensor([1]), tensor([1]), tensor([1]), tensor([1]), tensor([1]), tensor([1]), tensor([1]), tensor([1]), tensor([1]), tensor([1]), tensor([1]), tensor([1]), tensor([1]), tensor([1]), tensor([1]), tensor([1]), tensor([1]), tensor([1]), tensor([1]), tensor([1]), tensor([1]), tensor([1]), tensor([1]), tensor([1]), tensor([1]), tensor([1]), tensor([1]), tensor([1]), tensor([1]), tensor([1]), tensor([1]), tensor([1]), tensor([1]), tensor([1]), tensor([1]), tensor([1]), tensor([1]), tensor([1]), tensor([1]), tensor([1]), tensor([1]), tensor([1]), tensor([1]), tensor([1]), tensor([1]), tensor([1]), tensor([1]), tensor([1]), tensor([1]), tensor([1]), tensor([1]), tensor([1]), tensor([1]), tensor([1]), tensor([1]), tensor([1]), tensor([1]), tensor([1]), tensor([1]), tensor([1]), tensor([1]), tensor([1]), tensor([1]), tensor([1]), tensor([1]), tensor([1]), tensor([1]), tensor([1]), tensor([1]), tensor([1]), tensor([1]), tensor([1]), tensor([1]), tensor([1]), tensor([1]), tensor([1]), tensor([1]), tensor([1]), tensor([1]), tensor([1]), tensor([1]), tensor([1]), tensor([1]), tensor([1]), tensor([1]), tensor([1]), tensor([1]), tensor([1]), tensor([1]), tensor([1]), tensor([1]), tensor([1]), tensor([1]), tensor([1]), tensor([1]), tensor([1]), tensor([1]), tensor([1]), tensor([1]), tensor([1]), tensor([1]), tensor([1]), tensor([1]), tensor([1]), tensor([1]), tensor([1]), tensor([1]), tensor([1]), tensor([1]), tensor([1]), tensor([1]), tensor([1]), tensor([1]), tensor([1]), tensor([1]), tensor([1]), tensor([1]), tensor([1]), tensor([1]), tensor([1]), tensor([1]), tensor([1]), tensor([1]), tensor([1]), tensor([1]), tensor([1]), tensor([1]), tensor([1]), tensor([1]), tensor([1]), tensor([1]), tensor([1]), tensor([1]), tensor([1]), tensor([1]), tensor([1]), tensor([1]), tensor([1]), tensor([1]), tensor([1]), tensor([1]), tensor([1]), tensor([1]), tensor([1]), tensor([1]), tensor([1]), tensor([1]), tensor([1]), tensor([1]), tensor([1]), tensor([1]), tensor([1]), tensor([1]), tensor([1]), tensor([1]), tensor([1]), tensor([1]), tensor([1]), tensor([1]), tensor([1]), tensor([1]), tensor([1]), tensor([1]), tensor([1]), tensor([1]), tensor([1]), tensor([1]), tensor([1]), tensor([1]), tensor([1]), tensor([1]), tensor([1]), tensor([1]), tensor([1]), tensor([1]), tensor([1]), tensor([1]), tensor([1]), tensor([1]), tensor([1]), tensor([1]), tensor([1]), tensor([1]), tensor([1]), tensor([1]), tensor([1]), tensor([1]), tensor([1]), tensor([1]), tensor([1]), tensor([1]), tensor([1]), tensor([1]), tensor([1]), tensor([1]), tensor([1]), tensor([1]), tensor([1]), tensor([1]), tensor([1]), tensor([1]), tensor([1]), tensor([1]), tensor([1]), tensor([1]), tensor([1]), tensor([1]), tensor([1]), tensor([1]), tensor([1]), tensor([1]), tensor([1]), tensor([1]), tensor([1]), tensor([1]), tensor([1]), tensor([1]), tensor([1]), tensor([1]), tensor([1]), tensor([1]), tensor([1]), tensor([1]), tensor([1]), tensor([1]), tensor([1]), tensor([1]), tensor([1]), tensor([1]), tensor([1]), tensor([1]), tensor([1]), tensor([1]), tensor([1]), tensor([1]), tensor([1]), tensor([1]), tensor([1]), tensor([1]), tensor([1]), tensor([1]), tensor([1]), tensor([1]), tensor([1]), tensor([1]), tensor([1]), tensor([1]), tensor([1]), tensor([1]), tensor([1]), tensor([1]), tensor([1]), tensor([1]), tensor([1]), tensor([1]), tensor([1]), tensor([1]), tensor([1]), tensor([1]), tensor([1]), tensor([1]), tensor([1]), tensor([1]), tensor([1]), tensor([1]), tensor([1]), tensor([1]), tensor([1]), tensor([1]), tensor([1]), tensor([1]), tensor([1]), tensor([1]), tensor([1]), tensor([1]), tensor([1]), tensor([1]), tensor([1]), tensor([1]), tensor([1]), tensor([1]), tensor([1]), tensor([1]), tensor([1]), tensor([1]), tensor([1]), tensor([1]), tensor([1]), tensor([1]), tensor([1]), tensor([1]), tensor([1]), tensor([1]), tensor([1]), tensor([1]), tensor([1]), tensor([1]), tensor([1]), tensor([1]), tensor([1]), tensor([1]), tensor([1]), tensor([1]), tensor([1]), tensor([1]), tensor([1]), tensor([1]), tensor([1]), tensor([1]), tensor([1]), tensor([1]), tensor([1]), tensor([1]), tensor([1]), tensor([1]), tensor([1]), tensor([1]), tensor([1]), tensor([1]), tensor([1]), tensor([1]), tensor([1]), tensor([1]), tensor([1]), tensor([1]), tensor([1]), tensor([1]), tensor([1]), tensor([1]), tensor([1]), tensor([1]), tensor([1]), tensor([1]), tensor([1]), tensor([1]), tensor([1]), tensor([1]), tensor([1]), tensor([1]), tensor([1]), tensor([1]), tensor([1]), tensor([1]), tensor([1]), tensor([1]), tensor([1]), tensor([1]), tensor([1]), tensor([1]), tensor([1]), tensor([1]), tensor([1]), tensor([1]), tensor([1]), tensor([1]), tensor([1]), tensor([1]), tensor([1]), tensor([1]), tensor([1]), tensor([1]), tensor([1]), tensor([1]), tensor([1]), tensor([1]), tensor([1]), tensor([1]), tensor([1]), tensor([1]), tensor([1]), tensor([1]), tensor([1]), tensor([1]), tensor([1]), tensor([1]), tensor([1]), tensor([1]), tensor([1]), tensor([1]), tensor([1]), tensor([1]), tensor([1]), tensor([1]), tensor([1]), tensor([1]), tensor([1]), tensor([1]), tensor([1]), tensor([1]), tensor([1]), tensor([1]), tensor([1]), tensor([1]), tensor([1]), tensor([1]), tensor([1]), tensor([1]), tensor([1]), tensor([1]), tensor([1]), tensor([1]), tensor([1]), tensor([1]), tensor([1]), tensor([1]), tensor([1]), tensor([1]), tensor([1]), tensor([1]), tensor([1]), tensor([1]), tensor([1]), tensor([1]), tensor([1]), tensor([1]), tensor([1]), tensor([1]), tensor([1]), tensor([1]), tensor([1]), tensor([1]), tensor([1]), tensor([1]), tensor([1]), tensor([1]), tensor([1]), tensor([1]), tensor([1]), tensor([1]), tensor([1]), tensor([1]), tensor([1]), tensor([1]), tensor([1]), tensor([1]), tensor([1]), tensor([1]), tensor([1]), tensor([1]), tensor([1]), tensor([1]), tensor([1]), tensor([1]), tensor([1]), tensor([1]), tensor([1]), tensor([1]), tensor([1]), tensor([1]), tensor([1]), tensor([1]), tensor([1]), tensor([1]), tensor([1]), tensor([1]), tensor([1]), tensor([1]), tensor([1]), tensor([1]), tensor([1]), tensor([1]), tensor([1]), tensor([1]), tensor([1]), tensor([1]), tensor([1]), tensor([1]), tensor([1]), tensor([1])], 'attention_mask': [tensor([1]), tensor([1]), tensor([1]), tensor([1]), tensor([1]), tensor([1]), tensor([1]), tensor([1]), tensor([1]), tensor([1]), tensor([1]), tensor([1]), tensor([1]), tensor([1]), tensor([1]), tensor([1]), tensor([1]), tensor([1]), tensor([1]), tensor([1]), tensor([1]), tensor([1]), tensor([1]), tensor([1]), tensor([1]), tensor([1]), tensor([1]), tensor([1]), tensor([1]), tensor([1]), tensor([1]), tensor([0]), tensor([0]), tensor([0]), tensor([0]), tensor([0]), tensor([0]), tensor([0]), tensor([0]), tensor([0]), tensor([0]), tensor([0]), tensor([0]), tensor([0]), tensor([0]), tensor([0]), tensor([0]), tensor([0]), tensor([0]), tensor([0]), tensor([0]), tensor([0]), tensor([0]), tensor([0]), tensor([0]), tensor([0]), tensor([0]), tensor([0]), tensor([0]), tensor([0]), tensor([0]), tensor([0]), tensor([0]), tensor([0]), tensor([0]), tensor([0]), tensor([0]), tensor([0]), tensor([0]), tensor([0]), tensor([0]), tensor([0]), tensor([0]), tensor([0]), tensor([0]), tensor([0]), tensor([0]), tensor([0]), tensor([0]), tensor([0]), tensor([0]), tensor([0]), tensor([0]), tensor([0]), tensor([0]), tensor([0]), tensor([0]), tensor([0]), tensor([0]), tensor([0]), tensor([0]), tensor([0]), tensor([0]), tensor([0]), tensor([0]), tensor([0]), tensor([0]), tensor([0]), tensor([0]), tensor([0]), tensor([0]), tensor([0]), tensor([0]), tensor([0]), tensor([0]), tensor([0]), tensor([0]), tensor([0]), tensor([0]), tensor([0]), tensor([0]), tensor([0]), tensor([0]), tensor([0]), tensor([0]), tensor([0]), tensor([0]), tensor([0]), tensor([0]), tensor([0]), tensor([0]), tensor([0]), tensor([0]), tensor([0]), tensor([0]), tensor([0]), tensor([0]), tensor([0]), tensor([0]), tensor([0]), tensor([0]), tensor([0]), tensor([0]), tensor([0]), tensor([0]), tensor([0]), tensor([0]), tensor([0]), tensor([0]), tensor([0]), tensor([0]), tensor([0]), tensor([0]), tensor([0]), tensor([0]), tensor([0]), tensor([0]), tensor([0]), tensor([0]), tensor([0]), tensor([0]), tensor([0]), tensor([0]), tensor([0]), tensor([0]), tensor([0]), tensor([0]), tensor([0]), tensor([0]), tensor([0]), tensor([0]), tensor([0]), tensor([0]), tensor([0]), tensor([0]), tensor([0]), tensor([0]), tensor([0]), tensor([0]), tensor([0]), tensor([0]), tensor([0]), tensor([0]), tensor([0]), tensor([0]), tensor([0]), tensor([0]), tensor([0]), tensor([0]), tensor([0]), tensor([0]), tensor([0]), tensor([0]), tensor([0]), tensor([0]), tensor([0]), tensor([0]), tensor([0]), tensor([0]), tensor([0]), tensor([0]), tensor([0]), tensor([0]), tensor([0]), tensor([0]), tensor([0]), tensor([0]), tensor([0]), tensor([0]), tensor([0]), tensor([0]), tensor([0]), tensor([0]), tensor([0]), tensor([0]), tensor([0]), tensor([0]), tensor([0]), tensor([0]), tensor([0]), tensor([0]), tensor([0]), tensor([0]), tensor([0]), tensor([0]), tensor([0]), tensor([0]), tensor([0]), tensor([0]), tensor([0]), tensor([0]), tensor([0]), tensor([0]), tensor([0]), tensor([0]), tensor([0]), tensor([0]), tensor([0]), tensor([0]), tensor([0]), tensor([0]), tensor([0]), tensor([0]), tensor([0]), tensor([0]), tensor([0]), tensor([0]), tensor([0]), tensor([0]), tensor([0]), tensor([0]), tensor([0]), tensor([0]), tensor([0]), tensor([0]), tensor([0]), tensor([0]), tensor([0]), tensor([0]), tensor([0]), tensor([0]), tensor([0]), tensor([0]), tensor([0]), tensor([0]), tensor([0]), tensor([0]), tensor([0]), tensor([0]), tensor([0]), tensor([0]), tensor([0]), tensor([0]), tensor([0]), tensor([0]), tensor([0]), tensor([0]), tensor([0]), tensor([0]), tensor([0]), tensor([0]), tensor([0]), tensor([0]), tensor([0]), tensor([0]), tensor([0]), tensor([0]), tensor([0]), tensor([0]), tensor([0]), tensor([0]), tensor([0]), tensor([0]), tensor([0]), tensor([0]), tensor([0]), tensor([0]), tensor([0]), tensor([0]), tensor([0]), tensor([0]), tensor([0]), tensor([0]), tensor([0]), tensor([0]), tensor([0]), tensor([0]), tensor([0]), tensor([0]), tensor([0]), tensor([0]), tensor([0]), tensor([0]), tensor([0]), tensor([0]), tensor([0]), tensor([0]), tensor([0]), tensor([0]), tensor([0]), tensor([0]), tensor([0]), tensor([0]), tensor([0]), tensor([0]), tensor([0]), tensor([0]), tensor([0]), tensor([0]), tensor([0]), tensor([0]), tensor([0]), tensor([0]), tensor([0]), tensor([0]), tensor([0]), tensor([0]), tensor([0]), tensor([0]), tensor([0]), tensor([0]), tensor([0]), tensor([0]), tensor([0]), tensor([0]), tensor([0]), tensor([0]), tensor([0]), tensor([0]), tensor([0]), tensor([0]), tensor([0]), tensor([0]), tensor([0]), tensor([0]), tensor([0]), tensor([0]), tensor([0]), tensor([0]), tensor([0]), tensor([0]), tensor([0]), tensor([0]), tensor([0]), tensor([0]), tensor([0]), tensor([0]), tensor([0]), tensor([0]), tensor([0]), tensor([0]), tensor([0]), tensor([0]), tensor([0]), tensor([0]), tensor([0]), tensor([0]), tensor([0]), tensor([0]), tensor([0]), tensor([0]), tensor([0]), tensor([0]), tensor([0]), tensor([0]), tensor([0]), tensor([0]), tensor([0]), tensor([0]), tensor([0]), tensor([0]), tensor([0]), tensor([0]), tensor([0]), tensor([0]), tensor([0]), tensor([0]), tensor([0]), tensor([0]), tensor([0]), tensor([0]), tensor([0]), tensor([0]), tensor([0]), tensor([0]), tensor([0]), tensor([0]), tensor([0]), tensor([0]), tensor([0]), tensor([0]), tensor([0]), tensor([0]), tensor([0]), tensor([0]), tensor([0]), tensor([0]), tensor([0]), tensor([0]), tensor([0]), tensor([0]), tensor([0]), tensor([0]), tensor([0]), tensor([0]), tensor([0]), tensor([0]), tensor([0]), tensor([0]), tensor([0]), tensor([0]), tensor([0]), tensor([0]), tensor([0]), tensor([0]), tensor([0]), tensor([0]), tensor([0]), tensor([0]), tensor([0]), tensor([0]), tensor([0]), tensor([0]), tensor([0]), tensor([0]), tensor([0]), tensor([0]), tensor([0]), tensor([0]), tensor([0]), tensor([0]), tensor([0]), tensor([0]), tensor([0]), tensor([0]), tensor([0]), tensor([0]), tensor([0]), tensor([0]), tensor([0]), tensor([0]), tensor([0]), tensor([0]), tensor([0]), tensor([0]), tensor([0]), tensor([0]), tensor([0]), tensor([0]), tensor([0]), tensor([0]), tensor([0]), tensor([0]), tensor([0]), tensor([0]), tensor([0]), tensor([0]), tensor([0]), tensor([0]), tensor([0]), tensor([0]), tensor([0]), tensor([0]), tensor([0]), tensor([0]), tensor([0]), tensor([0]), tensor([0]), tensor([0]), tensor([0]), tensor([0]), tensor([0]), tensor([0]), tensor([0]), tensor([0]), tensor([0]), tensor([0]), tensor([0]), tensor([0]), tensor([0]), tensor([0]), tensor([0]), tensor([0]), tensor([0]), tensor([0]), tensor([0]), tensor([0]), tensor([0]), tensor([0]), tensor([0]), tensor([0]), tensor([0]), tensor([0]), tensor([0]), tensor([0]), tensor([0]), tensor([0]), tensor([0]), tensor([0]), tensor([0]), tensor([0]), tensor([0])], 'start_positions': tensor([16]), 'end_positions': tensor([18])}\n"
     ]
    }
   ],
   "source": [
    "from torch.utils.data import DataLoader\n",
    "\n",
    "# Create a small DataLoader\n",
    "train_loader = DataLoader(dataset_dict[\"train\"], batch_size=1)\n",
    "\n",
    "for batch in train_loader:\n",
    "    print(batch)  # Inspect the batch\n",
    "    break\n"
   ]
  },
  {
   "cell_type": "code",
   "execution_count": 13,
   "metadata": {},
   "outputs": [
    {
     "name": "stdout",
     "output_type": "stream",
     "text": [
      "Decoded Text: <s>What is the most common reason for a lot of authentication failures?</s></s>Disconnecting: Too many authentication failures for admin [preauth]</s><pad><pad><pad><pad><pad><pad><pad><pad><pad><pad><pad><pad><pad><pad><pad><pad><pad><pad><pad><pad><pad><pad><pad><pad><pad><pad><pad><pad><pad><pad><pad><pad><pad><pad><pad><pad><pad><pad><pad><pad><pad><pad><pad><pad><pad><pad><pad><pad><pad><pad><pad><pad><pad><pad><pad><pad><pad><pad><pad><pad><pad><pad><pad><pad><pad><pad><pad><pad><pad><pad><pad><pad><pad><pad><pad><pad><pad><pad><pad><pad><pad><pad><pad><pad><pad><pad><pad><pad><pad><pad><pad><pad><pad><pad><pad><pad><pad><pad><pad><pad><pad><pad><pad><pad><pad><pad><pad><pad><pad><pad><pad><pad><pad><pad><pad><pad><pad><pad><pad><pad><pad><pad><pad><pad><pad><pad><pad><pad><pad><pad><pad><pad><pad><pad><pad><pad><pad><pad><pad><pad><pad><pad><pad><pad><pad><pad><pad><pad><pad><pad><pad><pad><pad><pad><pad><pad><pad><pad><pad><pad><pad><pad><pad><pad><pad><pad><pad><pad><pad><pad><pad><pad><pad><pad><pad><pad><pad><pad><pad><pad><pad><pad><pad><pad><pad><pad><pad><pad><pad><pad><pad><pad><pad><pad><pad><pad><pad><pad><pad><pad><pad><pad><pad><pad><pad><pad><pad><pad><pad><pad><pad><pad><pad><pad><pad><pad><pad><pad><pad><pad><pad><pad><pad><pad><pad><pad><pad><pad><pad><pad><pad><pad><pad><pad><pad><pad><pad><pad><pad><pad><pad><pad><pad><pad><pad><pad><pad><pad><pad><pad><pad><pad><pad><pad><pad><pad><pad><pad><pad><pad><pad><pad><pad><pad><pad><pad><pad><pad><pad><pad><pad><pad><pad><pad><pad><pad><pad><pad><pad><pad><pad><pad><pad><pad><pad><pad><pad><pad><pad><pad><pad><pad><pad><pad><pad><pad><pad><pad><pad><pad><pad><pad><pad><pad><pad><pad><pad><pad><pad><pad><pad><pad><pad><pad><pad><pad><pad><pad><pad><pad><pad><pad><pad><pad><pad><pad><pad><pad><pad><pad><pad><pad><pad><pad><pad><pad><pad><pad><pad><pad><pad><pad><pad><pad><pad><pad><pad><pad><pad><pad><pad><pad><pad><pad><pad><pad><pad><pad><pad><pad><pad><pad><pad><pad><pad><pad><pad><pad><pad><pad><pad><pad><pad><pad><pad><pad><pad><pad><pad><pad><pad><pad><pad><pad><pad><pad><pad><pad><pad><pad><pad><pad><pad><pad><pad><pad><pad><pad><pad><pad><pad><pad><pad><pad><pad><pad><pad><pad><pad><pad><pad><pad><pad><pad><pad><pad><pad><pad><pad><pad><pad><pad><pad><pad><pad><pad><pad><pad><pad><pad><pad><pad><pad><pad><pad><pad><pad><pad><pad><pad><pad><pad><pad><pad><pad><pad><pad><pad><pad><pad><pad><pad><pad><pad><pad><pad><pad><pad><pad><pad><pad><pad><pad><pad><pad><pad><pad><pad><pad><pad><pad><pad><pad><pad><pad><pad><pad><pad><pad><pad><pad>\n",
      "Start Position: 16\n",
      "End Position: 18\n"
     ]
    }
   ],
   "source": [
    "# Retrieve the example\n",
    "example = dataset_dict[\"train\"][0]\n",
    "\n",
    "# Decode the input_ids to text\n",
    "decoded_text = tokenizer.decode(example[\"input_ids\"])\n",
    "print(\"Decoded Text:\", decoded_text)\n",
    "\n",
    "# Check start_positions and end_positions\n",
    "print(\"Start Position:\", example[\"start_positions\"])\n",
    "print(\"End Position:\", example[\"end_positions\"])\n"
   ]
  },
  {
   "cell_type": "code",
   "execution_count": 14,
   "metadata": {},
   "outputs": [],
   "source": [
    "def preprocess_data(examples):\n",
    "    tokenized = tokenizer(\n",
    "        examples[\"question\"],\n",
    "        examples[\"context\"],\n",
    "        truncation=True,\n",
    "        padding=\"max_length\",\n",
    "        max_length=512,\n",
    "        return_offsets_mapping=True,\n",
    "    )\n",
    "    start_positions = []\n",
    "    end_positions = []\n",
    "\n",
    "    for i, offsets in enumerate(tokenized[\"offset_mapping\"]):\n",
    "        context = examples[\"context\"][i]\n",
    "        answer = examples[\"answer\"][i]\n",
    "        start_idx = context.find(answer)\n",
    "        end_idx = start_idx + len(answer)\n",
    "\n",
    "        # Handle cases where the answer is not found\n",
    "        if start_idx == -1 or end_idx == -1:\n",
    "            start_positions.append(0)\n",
    "            end_positions.append(0)\n",
    "        else:\n",
    "            # Locate token start and end positions\n",
    "            token_start = token_end = None\n",
    "            for idx, (start, end) in enumerate(offsets):\n",
    "                if start <= start_idx < end:\n",
    "                    token_start = idx\n",
    "                if start < end_idx <= end:\n",
    "                    token_end = idx\n",
    "            start_positions.append(token_start if token_start is not None else 0)\n",
    "            end_positions.append(token_end if token_end is not None else 0)\n",
    "\n",
    "    tokenized[\"start_positions\"] = start_positions\n",
    "    tokenized[\"end_positions\"] = end_positions\n",
    "    tokenized.pop(\"offset_mapping\")\n",
    "    return tokenized\n"
   ]
  },
  {
   "cell_type": "code",
   "execution_count": 15,
   "metadata": {},
   "outputs": [
    {
     "name": "stdout",
     "output_type": "stream",
     "text": [
      "Example 0 - Decoded Answer Span: Disconnecting\n",
      "Original Answer: Disconnecting\n",
      "Match at example 0\n"
     ]
    }
   ],
   "source": [
    "# Example validation using the original raw dataset\n",
    "for idx, example in enumerate(dataset_dict[\"train\"]):\n",
    "    input_ids = example[\"input_ids\"]\n",
    "    start = example[\"start_positions\"]\n",
    "    end = example[\"end_positions\"]\n",
    "\n",
    "    # Decode the span from the tokenized input_ids\n",
    "    decoded_span = tokenizer.decode(input_ids[start:end + 1])\n",
    "    print(f\"Example {idx} - Decoded Answer Span: {decoded_span}\")\n",
    "\n",
    "    # Retrieve the original answer from the raw dataset\n",
    "    original_answer = train_df.iloc[idx][\"answer\"]\n",
    "    print(f\"Original Answer: {original_answer}\")\n",
    "    \n",
    "    # Compare decoded span with the original answer\n",
    "    if decoded_span != original_answer:\n",
    "        print(f\"Mismatch at example {idx}: Decoded Span != Original Answer\")\n",
    "    else:\n",
    "        print(f\"Match at example {idx}\")\n",
    "    \n",
    "    break  # Check the first example and stop\n",
    "\n"
   ]
  },
  {
   "cell_type": "code",
   "execution_count": 16,
   "metadata": {},
   "outputs": [
    {
     "name": "stdout",
     "output_type": "stream",
     "text": [
      "CUDA Available: True\n",
      "CUDA Device: NVIDIA GeForce RTX 4070 SUPER\n",
      "Tensor on CUDA: tensor([1., 2., 3.], device='cuda:0')\n"
     ]
    }
   ],
   "source": [
    "import torch\n",
    "\n",
    "# Verify CUDA is working\n",
    "print(\"CUDA Available:\", torch.cuda.is_available())\n",
    "print(\"CUDA Device:\", torch.cuda.get_device_name(0))\n",
    "x = torch.tensor([1.0, 2.0, 3.0]).cuda()\n",
    "print(\"Tensor on CUDA:\", x)\n",
    "\n"
   ]
  },
  {
   "cell_type": "code",
   "execution_count": 19,
   "metadata": {},
   "outputs": [
    {
     "name": "stderr",
     "output_type": "stream",
     "text": [
      "Some weights of XLMRobertaForQuestionAnswering were not initialized from the model checkpoint at xlm-roberta-base and are newly initialized: ['qa_outputs.bias', 'qa_outputs.weight']\n",
      "You should probably TRAIN this model on a down-stream task to be able to use it for predictions and inference.\n",
      "c:\\Users\\user\\AppData\\Local\\Programs\\Python\\Python312\\Lib\\site-packages\\transformers\\training_args.py:1568: FutureWarning: `evaluation_strategy` is deprecated and will be removed in version 4.46 of 🤗 Transformers. Use `eval_strategy` instead\n",
      "  warnings.warn(\n"
     ]
    },
    {
     "data": {
      "application/vnd.jupyter.widget-view+json": {
       "model_id": "abb71ba5490b4ed68f490629e49d8161",
       "version_major": 2,
       "version_minor": 0
      },
      "text/plain": [
       "  0%|          | 0/375 [00:00<?, ?it/s]"
      ]
     },
     "metadata": {},
     "output_type": "display_data"
    },
    {
     "name": "stdout",
     "output_type": "stream",
     "text": [
      "{'loss': 5.5008, 'grad_norm': 28.73343276977539, 'learning_rate': 1.9466666666666668e-05, 'epoch': 0.08}\n",
      "{'loss': 4.5123, 'grad_norm': 21.33353042602539, 'learning_rate': 1.8933333333333334e-05, 'epoch': 0.16}\n",
      "{'loss': 4.0048, 'grad_norm': 23.168479919433594, 'learning_rate': 1.8400000000000003e-05, 'epoch': 0.24}\n",
      "{'loss': 3.565, 'grad_norm': 23.002517700195312, 'learning_rate': 1.7866666666666666e-05, 'epoch': 0.32}\n",
      "{'loss': 3.351, 'grad_norm': 35.91822052001953, 'learning_rate': 1.7333333333333336e-05, 'epoch': 0.4}\n",
      "{'loss': 3.4144, 'grad_norm': 27.35710906982422, 'learning_rate': 1.6800000000000002e-05, 'epoch': 0.48}\n",
      "{'loss': 2.8195, 'grad_norm': 32.17051696777344, 'learning_rate': 1.6266666666666668e-05, 'epoch': 0.56}\n",
      "{'loss': 2.643, 'grad_norm': 39.653221130371094, 'learning_rate': 1.5733333333333334e-05, 'epoch': 0.64}\n",
      "{'loss': 2.9262, 'grad_norm': 30.280399322509766, 'learning_rate': 1.5200000000000002e-05, 'epoch': 0.72}\n",
      "{'loss': 2.4617, 'grad_norm': 32.5287971496582, 'learning_rate': 1.4666666666666666e-05, 'epoch': 0.8}\n",
      "{'loss': 2.3492, 'grad_norm': 66.21380615234375, 'learning_rate': 1.4133333333333334e-05, 'epoch': 0.88}\n",
      "{'loss': 2.1468, 'grad_norm': 43.04047393798828, 'learning_rate': 1.3600000000000002e-05, 'epoch': 0.96}\n"
     ]
    },
    {
     "data": {
      "application/vnd.jupyter.widget-view+json": {
       "model_id": "80d17a7d47d34a9c8675d54791b68d88",
       "version_major": 2,
       "version_minor": 0
      },
      "text/plain": [
       "  0%|          | 0/11 [00:00<?, ?it/s]"
      ]
     },
     "metadata": {},
     "output_type": "display_data"
    },
    {
     "name": "stdout",
     "output_type": "stream",
     "text": [
      "{'eval_loss': 1.931481122970581, 'eval_runtime': 0.3467, 'eval_samples_per_second': 121.131, 'eval_steps_per_second': 31.725, 'epoch': 1.0}\n",
      "{'loss': 2.209, 'grad_norm': 75.2294921875, 'learning_rate': 1.3066666666666668e-05, 'epoch': 1.04}\n",
      "{'loss': 1.9321, 'grad_norm': 113.03954315185547, 'learning_rate': 1.2533333333333336e-05, 'epoch': 1.12}\n",
      "{'loss': 1.7587, 'grad_norm': 41.494140625, 'learning_rate': 1.2e-05, 'epoch': 1.2}\n",
      "{'loss': 1.8044, 'grad_norm': 64.2375717163086, 'learning_rate': 1.1466666666666668e-05, 'epoch': 1.28}\n",
      "{'loss': 1.6835, 'grad_norm': 73.65506744384766, 'learning_rate': 1.0933333333333334e-05, 'epoch': 1.36}\n",
      "{'loss': 1.9631, 'grad_norm': 59.198001861572266, 'learning_rate': 1.04e-05, 'epoch': 1.44}\n",
      "{'loss': 1.6284, 'grad_norm': 69.1397933959961, 'learning_rate': 9.866666666666668e-06, 'epoch': 1.52}\n",
      "{'loss': 1.7675, 'grad_norm': 66.12629699707031, 'learning_rate': 9.333333333333334e-06, 'epoch': 1.6}\n",
      "{'loss': 1.3757, 'grad_norm': 43.13200759887695, 'learning_rate': 8.8e-06, 'epoch': 1.68}\n",
      "{'loss': 1.5285, 'grad_norm': 40.88743209838867, 'learning_rate': 8.266666666666667e-06, 'epoch': 1.76}\n",
      "{'loss': 1.5925, 'grad_norm': 27.82948112487793, 'learning_rate': 7.733333333333334e-06, 'epoch': 1.84}\n",
      "{'loss': 1.6964, 'grad_norm': 106.99626159667969, 'learning_rate': 7.2000000000000005e-06, 'epoch': 1.92}\n",
      "{'loss': 1.5736, 'grad_norm': 94.3978500366211, 'learning_rate': 6.666666666666667e-06, 'epoch': 2.0}\n"
     ]
    },
    {
     "data": {
      "application/vnd.jupyter.widget-view+json": {
       "model_id": "be0eaa15a2e0476fb2ab8ce9542b0d6c",
       "version_major": 2,
       "version_minor": 0
      },
      "text/plain": [
       "  0%|          | 0/11 [00:00<?, ?it/s]"
      ]
     },
     "metadata": {},
     "output_type": "display_data"
    },
    {
     "name": "stdout",
     "output_type": "stream",
     "text": [
      "{'eval_loss': 1.212790608406067, 'eval_runtime': 0.2997, 'eval_samples_per_second': 140.133, 'eval_steps_per_second': 36.702, 'epoch': 2.0}\n",
      "{'loss': 1.2969, 'grad_norm': 52.017662048339844, 'learning_rate': 6.133333333333334e-06, 'epoch': 2.08}\n",
      "{'loss': 1.5313, 'grad_norm': 93.1449203491211, 'learning_rate': 5.600000000000001e-06, 'epoch': 2.16}\n",
      "{'loss': 1.4485, 'grad_norm': 48.432289123535156, 'learning_rate': 5.0666666666666676e-06, 'epoch': 2.24}\n",
      "{'loss': 1.4951, 'grad_norm': 55.051177978515625, 'learning_rate': 4.533333333333334e-06, 'epoch': 2.32}\n",
      "{'loss': 1.0566, 'grad_norm': 63.5719108581543, 'learning_rate': 4.000000000000001e-06, 'epoch': 2.4}\n",
      "{'loss': 1.0358, 'grad_norm': 57.22682189941406, 'learning_rate': 3.4666666666666672e-06, 'epoch': 2.48}\n",
      "{'loss': 1.1459, 'grad_norm': 63.8711051940918, 'learning_rate': 2.9333333333333338e-06, 'epoch': 2.56}\n",
      "{'loss': 1.4864, 'grad_norm': 95.61084747314453, 'learning_rate': 2.4000000000000003e-06, 'epoch': 2.64}\n",
      "{'loss': 1.3086, 'grad_norm': 49.82223129272461, 'learning_rate': 1.8666666666666669e-06, 'epoch': 2.72}\n",
      "{'loss': 1.248, 'grad_norm': 48.22991180419922, 'learning_rate': 1.3333333333333334e-06, 'epoch': 2.8}\n",
      "{'loss': 1.3209, 'grad_norm': 36.027278900146484, 'learning_rate': 8.000000000000001e-07, 'epoch': 2.88}\n",
      "{'loss': 1.1531, 'grad_norm': 40.58354568481445, 'learning_rate': 2.666666666666667e-07, 'epoch': 2.96}\n"
     ]
    },
    {
     "data": {
      "application/vnd.jupyter.widget-view+json": {
       "model_id": "963f45bb4a94491eadecacff3bbd791e",
       "version_major": 2,
       "version_minor": 0
      },
      "text/plain": [
       "  0%|          | 0/11 [00:00<?, ?it/s]"
      ]
     },
     "metadata": {},
     "output_type": "display_data"
    },
    {
     "name": "stdout",
     "output_type": "stream",
     "text": [
      "{'eval_loss': 1.043710708618164, 'eval_runtime': 0.5004, 'eval_samples_per_second': 83.925, 'eval_steps_per_second': 21.98, 'epoch': 3.0}\n",
      "{'train_runtime': 60.1405, 'train_samples_per_second': 24.842, 'train_steps_per_second': 6.235, 'train_loss': 2.0949379806518555, 'epoch': 3.0}\n"
     ]
    },
    {
     "data": {
      "application/vnd.jupyter.widget-view+json": {
       "model_id": "5a70d7d849664c9ba1276ef4a4deb9e6",
       "version_major": 2,
       "version_minor": 0
      },
      "text/plain": [
       "  0%|          | 0/64 [00:00<?, ?it/s]"
      ]
     },
     "metadata": {},
     "output_type": "display_data"
    },
    {
     "name": "stdout",
     "output_type": "stream",
     "text": [
      "Test Results for `xlm-roberta-base`: {'test_loss': 1.2092787027359009, 'test_runtime': 1.8814, 'test_samples_per_second': 134.476, 'test_steps_per_second': 34.018, 'epoch': 3.0}\n"
     ]
    }
   ],
   "source": [
    "import torch\n",
    "from transformers import AutoModelForQuestionAnswering, Trainer, TrainingArguments\n",
    "\n",
    "def fine_tune_xlm_roberta(dataset_dict):\n",
    "    \"\"\"\n",
    "    Fine-tunes the `xlm-roberta-base` model on the provided dataset.\n",
    "    \"\"\"\n",
    "    # Step 1: Load the model\n",
    "    model4 = AutoModelForQuestionAnswering.from_pretrained(\"xlm-roberta-base\")\n",
    "\n",
    "    # Step 2: Define training arguments\n",
    "    training_args4 = TrainingArguments(\n",
    "        output_dir=\"./results_fixed\",\n",
    "        evaluation_strategy=\"epoch\",\n",
    "        learning_rate=2e-5,\n",
    "        per_device_train_batch_size=4,\n",
    "        per_device_eval_batch_size=4,\n",
    "        num_train_epochs=3,\n",
    "        logging_dir=\"./logs_fixed\",\n",
    "        logging_steps=10,\n",
    "        report_to=\"none\",\n",
    "    )\n",
    "\n",
    "    # Step 3: Define the Trainer\n",
    "    trainer4 = Trainer(\n",
    "        model=model4,\n",
    "        args=training_args4,\n",
    "        train_dataset=dataset_dict[\"train\"],\n",
    "        eval_dataset=dataset_dict[\"validation\"],\n",
    "    )\n",
    "\n",
    "    # Step 4: Train the model\n",
    "    trainer4.train()\n",
    "\n",
    "    # Step 5: Evaluate the model on the test set\n",
    "    test_results4 = trainer4.evaluate(eval_dataset=dataset_dict[\"test\"], metric_key_prefix=\"test\")\n",
    "    print(\"Test Results for `xlm-roberta-base`:\", test_results4)\n",
    "\n",
    "    # Step 6: Save the fine-tuned model\n",
    "    trainer4.save_model(\"./xlm_roberta_fine_tuned\")\n",
    "\n",
    "    return test_results4\n",
    "\n",
    "\n",
    "# Clear GPU memory from previous models\n",
    "torch.cuda.empty_cache()\n",
    "\n",
    "# Fine-tune the new model\n",
    "xlm_roberta_results = fine_tune_xlm_roberta(dataset_dict)\n"
   ]
  },
  {
   "cell_type": "markdown",
   "metadata": {},
   "source": [
    "### Fine-Tune a larger module"
   ]
  },
  {
   "cell_type": "code",
   "execution_count": 20,
   "metadata": {},
   "outputs": [
    {
     "data": {
      "application/vnd.jupyter.widget-view+json": {
       "model_id": "a08c9c23a0b9449ab6270347834d2093",
       "version_major": 2,
       "version_minor": 0
      },
      "text/plain": [
       "config.json:   0%|          | 0.00/482 [00:00<?, ?B/s]"
      ]
     },
     "metadata": {},
     "output_type": "display_data"
    },
    {
     "data": {
      "application/vnd.jupyter.widget-view+json": {
       "model_id": "9121dfc50ae749988eb934ccc4abeac3",
       "version_major": 2,
       "version_minor": 0
      },
      "text/plain": [
       "model.safetensors:   0%|          | 0.00/1.42G [00:00<?, ?B/s]"
      ]
     },
     "metadata": {},
     "output_type": "display_data"
    },
    {
     "name": "stderr",
     "output_type": "stream",
     "text": [
      "Some weights of RobertaForQuestionAnswering were not initialized from the model checkpoint at roberta-large and are newly initialized: ['qa_outputs.bias', 'qa_outputs.weight']\n",
      "You should probably TRAIN this model on a down-stream task to be able to use it for predictions and inference.\n",
      "c:\\Users\\user\\AppData\\Local\\Programs\\Python\\Python312\\Lib\\site-packages\\transformers\\training_args.py:1568: FutureWarning: `evaluation_strategy` is deprecated and will be removed in version 4.46 of 🤗 Transformers. Use `eval_strategy` instead\n",
      "  warnings.warn(\n"
     ]
    },
    {
     "data": {
      "application/vnd.jupyter.widget-view+json": {
       "model_id": "aad0df33794c4db59e12a9be8fe7266a",
       "version_major": 2,
       "version_minor": 0
      },
      "text/plain": [
       "  0%|          | 0/747 [00:00<?, ?it/s]"
      ]
     },
     "metadata": {},
     "output_type": "display_data"
    },
    {
     "name": "stdout",
     "output_type": "stream",
     "text": [
      "{'loss': 5.1234, 'grad_norm': 119.91337585449219, 'learning_rate': 1.9732262382864794e-05, 'epoch': 0.04}\n",
      "{'loss': 2.796, 'grad_norm': 111.44415283203125, 'learning_rate': 1.9464524765729587e-05, 'epoch': 0.08}\n",
      "{'loss': 2.1649, 'grad_norm': 45.00605392456055, 'learning_rate': 1.9196787148594377e-05, 'epoch': 0.12}\n",
      "{'loss': 1.4118, 'grad_norm': 64.9967041015625, 'learning_rate': 1.8929049531459173e-05, 'epoch': 0.16}\n",
      "{'loss': 1.0936, 'grad_norm': 4.520964622497559, 'learning_rate': 1.8661311914323962e-05, 'epoch': 0.2}\n",
      "{'loss': 1.8615, 'grad_norm': 47.12617492675781, 'learning_rate': 1.8393574297188755e-05, 'epoch': 0.24}\n",
      "{'loss': 1.6678, 'grad_norm': 197.89144897460938, 'learning_rate': 1.8125836680053548e-05, 'epoch': 0.28}\n",
      "{'loss': 1.1703, 'grad_norm': 100.52545928955078, 'learning_rate': 1.785809906291834e-05, 'epoch': 0.32}\n",
      "{'loss': 1.6769, 'grad_norm': 137.61248779296875, 'learning_rate': 1.7590361445783134e-05, 'epoch': 0.36}\n",
      "{'loss': 1.0343, 'grad_norm': 93.01177978515625, 'learning_rate': 1.7322623828647926e-05, 'epoch': 0.4}\n",
      "{'loss': 1.6442, 'grad_norm': 57.47555160522461, 'learning_rate': 1.705488621151272e-05, 'epoch': 0.44}\n",
      "{'loss': 1.3858, 'grad_norm': 79.10456848144531, 'learning_rate': 1.6787148594377512e-05, 'epoch': 0.48}\n",
      "{'loss': 0.9151, 'grad_norm': 70.15941619873047, 'learning_rate': 1.65194109772423e-05, 'epoch': 0.52}\n",
      "{'loss': 0.7242, 'grad_norm': 154.42384338378906, 'learning_rate': 1.6251673360107098e-05, 'epoch': 0.56}\n",
      "{'loss': 1.0262, 'grad_norm': 1.6251968145370483, 'learning_rate': 1.5983935742971887e-05, 'epoch': 0.6}\n",
      "{'loss': 0.1026, 'grad_norm': 10.596415519714355, 'learning_rate': 1.571619812583668e-05, 'epoch': 0.64}\n",
      "{'loss': 1.1945, 'grad_norm': 101.61923217773438, 'learning_rate': 1.5448460508701473e-05, 'epoch': 0.68}\n",
      "{'loss': 1.2033, 'grad_norm': 97.84178161621094, 'learning_rate': 1.5180722891566266e-05, 'epoch': 0.72}\n",
      "{'loss': 0.154, 'grad_norm': 12.149456024169922, 'learning_rate': 1.4912985274431058e-05, 'epoch': 0.76}\n",
      "{'loss': 0.2823, 'grad_norm': 0.9519294500350952, 'learning_rate': 1.4645247657295851e-05, 'epoch': 0.8}\n",
      "{'loss': 0.4703, 'grad_norm': 267.7103271484375, 'learning_rate': 1.4377510040160642e-05, 'epoch': 0.84}\n",
      "{'loss': 0.8375, 'grad_norm': 4.325877666473389, 'learning_rate': 1.4109772423025437e-05, 'epoch': 0.88}\n",
      "{'loss': 0.4715, 'grad_norm': 0.21319545805454254, 'learning_rate': 1.3842034805890228e-05, 'epoch': 0.92}\n",
      "{'loss': 0.326, 'grad_norm': 0.01919187419116497, 'learning_rate': 1.357429718875502e-05, 'epoch': 0.96}\n"
     ]
    },
    {
     "data": {
      "application/vnd.jupyter.widget-view+json": {
       "model_id": "cc4076833af84506bd771371f5efcaa1",
       "version_major": 2,
       "version_minor": 0
      },
      "text/plain": [
       "  0%|          | 0/21 [00:00<?, ?it/s]"
      ]
     },
     "metadata": {},
     "output_type": "display_data"
    },
    {
     "name": "stdout",
     "output_type": "stream",
     "text": [
      "{'eval_loss': 0.43773072957992554, 'eval_runtime': 1.0555, 'eval_samples_per_second': 39.793, 'eval_steps_per_second': 19.896, 'epoch': 1.0}\n",
      "{'loss': 1.6013, 'grad_norm': 1.2156846523284912, 'learning_rate': 1.3306559571619812e-05, 'epoch': 1.0}\n",
      "{'loss': 0.2071, 'grad_norm': 14.222010612487793, 'learning_rate': 1.3038821954484606e-05, 'epoch': 1.04}\n",
      "{'loss': 0.3554, 'grad_norm': 0.5475412011146545, 'learning_rate': 1.2771084337349398e-05, 'epoch': 1.08}\n",
      "{'loss': 1.0584, 'grad_norm': 63.47783279418945, 'learning_rate': 1.250334672021419e-05, 'epoch': 1.12}\n",
      "{'loss': 0.8903, 'grad_norm': 2.0180721282958984, 'learning_rate': 1.2235609103078983e-05, 'epoch': 1.16}\n",
      "{'loss': 0.1558, 'grad_norm': 8.932465553283691, 'learning_rate': 1.1967871485943776e-05, 'epoch': 1.2}\n",
      "{'loss': 0.3099, 'grad_norm': 0.007925364188849926, 'learning_rate': 1.1700133868808567e-05, 'epoch': 1.24}\n",
      "{'loss': 0.4548, 'grad_norm': 0.028795849531888962, 'learning_rate': 1.1432396251673362e-05, 'epoch': 1.29}\n",
      "{'loss': 0.0134, 'grad_norm': 0.06625678390264511, 'learning_rate': 1.1164658634538153e-05, 'epoch': 1.33}\n",
      "{'loss': 0.107, 'grad_norm': 0.13199225068092346, 'learning_rate': 1.0896921017402946e-05, 'epoch': 1.37}\n",
      "{'loss': 0.8299, 'grad_norm': 0.14121752977371216, 'learning_rate': 1.0629183400267737e-05, 'epoch': 1.41}\n",
      "{'loss': 0.6338, 'grad_norm': 0.04606877267360687, 'learning_rate': 1.0361445783132531e-05, 'epoch': 1.45}\n",
      "{'loss': 0.4692, 'grad_norm': 0.19176959991455078, 'learning_rate': 1.0093708165997322e-05, 'epoch': 1.49}\n",
      "{'loss': 0.0565, 'grad_norm': 8.403525352478027, 'learning_rate': 9.825970548862117e-06, 'epoch': 1.53}\n",
      "{'loss': 0.7266, 'grad_norm': 117.29103088378906, 'learning_rate': 9.558232931726908e-06, 'epoch': 1.57}\n",
      "{'loss': 0.3745, 'grad_norm': 0.05186343938112259, 'learning_rate': 9.2904953145917e-06, 'epoch': 1.61}\n",
      "{'loss': 0.0212, 'grad_norm': 101.4261474609375, 'learning_rate': 9.022757697456494e-06, 'epoch': 1.65}\n",
      "{'loss': 0.087, 'grad_norm': 0.007145348936319351, 'learning_rate': 8.755020080321286e-06, 'epoch': 1.69}\n",
      "{'loss': 0.3584, 'grad_norm': 358.81494140625, 'learning_rate': 8.48728246318608e-06, 'epoch': 1.73}\n",
      "{'loss': 0.8841, 'grad_norm': 244.9068145751953, 'learning_rate': 8.21954484605087e-06, 'epoch': 1.77}\n",
      "{'loss': 0.3594, 'grad_norm': 19.11143684387207, 'learning_rate': 7.951807228915663e-06, 'epoch': 1.81}\n",
      "{'loss': 0.4141, 'grad_norm': 0.010668469592928886, 'learning_rate': 7.684069611780456e-06, 'epoch': 1.85}\n",
      "{'loss': 0.0262, 'grad_norm': 0.009897052310407162, 'learning_rate': 7.416331994645248e-06, 'epoch': 1.89}\n",
      "{'loss': 0.0648, 'grad_norm': 18.879779815673828, 'learning_rate': 7.148594377510041e-06, 'epoch': 1.93}\n",
      "{'loss': 0.3457, 'grad_norm': 4.549618244171143, 'learning_rate': 6.880856760374834e-06, 'epoch': 1.97}\n"
     ]
    },
    {
     "data": {
      "application/vnd.jupyter.widget-view+json": {
       "model_id": "f4ebe0a9754e4ec087eb94b659c8de19",
       "version_major": 2,
       "version_minor": 0
      },
      "text/plain": [
       "  0%|          | 0/21 [00:00<?, ?it/s]"
      ]
     },
     "metadata": {},
     "output_type": "display_data"
    },
    {
     "name": "stdout",
     "output_type": "stream",
     "text": [
      "{'eval_loss': 0.6060967445373535, 'eval_runtime': 1.065, 'eval_samples_per_second': 39.438, 'eval_steps_per_second': 19.719, 'epoch': 2.0}\n",
      "{'loss': 0.0002, 'grad_norm': 0.5012885332107544, 'learning_rate': 6.6131191432396255e-06, 'epoch': 2.01}\n",
      "{'loss': 0.1045, 'grad_norm': 0.24260808527469635, 'learning_rate': 6.345381526104418e-06, 'epoch': 2.05}\n",
      "{'loss': 0.0026, 'grad_norm': 5.126354217529297, 'learning_rate': 6.07764390896921e-06, 'epoch': 2.09}\n",
      "{'loss': 0.0003, 'grad_norm': 0.0774960070848465, 'learning_rate': 5.809906291834003e-06, 'epoch': 2.13}\n",
      "{'loss': 0.0016, 'grad_norm': 0.13650211691856384, 'learning_rate': 5.542168674698796e-06, 'epoch': 2.17}\n",
      "{'loss': 0.3135, 'grad_norm': 0.038743454962968826, 'learning_rate': 5.274431057563588e-06, 'epoch': 2.21}\n",
      "{'loss': 1.0385, 'grad_norm': 21.7828311920166, 'learning_rate': 5.006693440428381e-06, 'epoch': 2.25}\n",
      "{'loss': 0.3651, 'grad_norm': 0.05962815135717392, 'learning_rate': 4.7389558232931736e-06, 'epoch': 2.29}\n",
      "{'loss': 0.1272, 'grad_norm': 0.010761233046650887, 'learning_rate': 4.4712182061579655e-06, 'epoch': 2.33}\n",
      "{'loss': 0.0003, 'grad_norm': 0.0027773245237767696, 'learning_rate': 4.203480589022758e-06, 'epoch': 2.37}\n",
      "{'loss': 0.1455, 'grad_norm': 0.0764060914516449, 'learning_rate': 3.93574297188755e-06, 'epoch': 2.41}\n",
      "{'loss': 0.0069, 'grad_norm': 0.0016433841083198786, 'learning_rate': 3.668005354752343e-06, 'epoch': 2.45}\n",
      "{'loss': 0.0028, 'grad_norm': 0.1231442466378212, 'learning_rate': 3.4002677376171355e-06, 'epoch': 2.49}\n",
      "{'loss': 0.0594, 'grad_norm': 0.0005194218829274178, 'learning_rate': 3.132530120481928e-06, 'epoch': 2.53}\n",
      "{'loss': 0.0002, 'grad_norm': 0.004350339062511921, 'learning_rate': 2.8647925033467208e-06, 'epoch': 2.57}\n",
      "{'loss': 0.1445, 'grad_norm': 351.89312744140625, 'learning_rate': 2.597054886211513e-06, 'epoch': 2.61}\n",
      "{'loss': 0.0009, 'grad_norm': 0.0014219231670722365, 'learning_rate': 2.3293172690763055e-06, 'epoch': 2.65}\n",
      "{'loss': 0.0293, 'grad_norm': 0.0019847520161420107, 'learning_rate': 2.061579651941098e-06, 'epoch': 2.69}\n",
      "{'loss': 0.0338, 'grad_norm': 0.006025134585797787, 'learning_rate': 1.7938420348058905e-06, 'epoch': 2.73}\n",
      "{'loss': 0.1533, 'grad_norm': 0.008228869177401066, 'learning_rate': 1.526104417670683e-06, 'epoch': 2.77}\n",
      "{'loss': 0.5227, 'grad_norm': 0.004055856727063656, 'learning_rate': 1.2583668005354755e-06, 'epoch': 2.81}\n",
      "{'loss': 0.003, 'grad_norm': 11.525958061218262, 'learning_rate': 9.906291834002677e-07, 'epoch': 2.85}\n",
      "{'loss': 0.0085, 'grad_norm': 0.016469426453113556, 'learning_rate': 7.228915662650602e-07, 'epoch': 2.89}\n",
      "{'loss': 0.0733, 'grad_norm': 0.07022938877344131, 'learning_rate': 4.5515394912985277e-07, 'epoch': 2.93}\n",
      "{'loss': 0.1094, 'grad_norm': 0.015096679329872131, 'learning_rate': 1.8741633199464527e-07, 'epoch': 2.97}\n"
     ]
    },
    {
     "data": {
      "application/vnd.jupyter.widget-view+json": {
       "model_id": "c35b790d11ff4cec84ea22efd8672439",
       "version_major": 2,
       "version_minor": 0
      },
      "text/plain": [
       "  0%|          | 0/21 [00:00<?, ?it/s]"
      ]
     },
     "metadata": {},
     "output_type": "display_data"
    },
    {
     "name": "stdout",
     "output_type": "stream",
     "text": [
      "{'eval_loss': 0.5783315896987915, 'eval_runtime': 1.1714, 'eval_samples_per_second': 35.855, 'eval_steps_per_second': 17.928, 'epoch': 3.0}\n",
      "{'train_runtime': 192.9675, 'train_samples_per_second': 7.742, 'train_steps_per_second': 3.871, 'train_loss': 0.6066743166299993, 'epoch': 3.0}\n"
     ]
    },
    {
     "data": {
      "application/vnd.jupyter.widget-view+json": {
       "model_id": "e3477666baf94aa8a9ebea220f8fd82d",
       "version_major": 2,
       "version_minor": 0
      },
      "text/plain": [
       "  0%|          | 0/127 [00:00<?, ?it/s]"
      ]
     },
     "metadata": {},
     "output_type": "display_data"
    },
    {
     "name": "stdout",
     "output_type": "stream",
     "text": [
      "Test Results for `roberta-large`: {'test_loss': 0.39201870560646057, 'test_runtime': 6.39, 'test_samples_per_second': 39.593, 'test_steps_per_second': 19.875, 'epoch': 3.0}\n"
     ]
    }
   ],
   "source": [
    "import torch\n",
    "from transformers import AutoModelForQuestionAnswering, Trainer, TrainingArguments\n",
    "\n",
    "def fine_tune_roberta_large(dataset_dict):\n",
    "    \"\"\"\n",
    "    Fine-tunes the `roberta-large` model on the provided dataset.\n",
    "    \"\"\"\n",
    "    # Step 1: Load the model\n",
    "    model_large = AutoModelForQuestionAnswering.from_pretrained(\"roberta-large\")\n",
    "\n",
    "    # Step 2: Define training arguments\n",
    "    training_args_large = TrainingArguments(\n",
    "        output_dir=\"./results_roberta_large\",\n",
    "        evaluation_strategy=\"epoch\",\n",
    "        learning_rate=2e-5,\n",
    "        per_device_train_batch_size=2,  # Reduce batch size for larger model\n",
    "        per_device_eval_batch_size=2,\n",
    "        num_train_epochs=3,\n",
    "        weight_decay=0.01,\n",
    "        logging_dir=\"./logs_roberta_large\",\n",
    "        logging_steps=10,\n",
    "        save_strategy=\"epoch\",\n",
    "        save_total_limit=2,\n",
    "        report_to=\"none\",\n",
    "    )\n",
    "\n",
    "    # Step 3: Define the Trainer\n",
    "    trainer_large = Trainer(\n",
    "        model=model_large,\n",
    "        args=training_args_large,\n",
    "        train_dataset=dataset_dict[\"train\"],\n",
    "        eval_dataset=dataset_dict[\"validation\"],\n",
    "    )\n",
    "\n",
    "    # Step 4: Train the model\n",
    "    trainer_large.train()\n",
    "\n",
    "    # Step 5: Evaluate the model on the test set\n",
    "    test_results_large = trainer_large.evaluate(eval_dataset=dataset_dict[\"test\"], metric_key_prefix=\"test\")\n",
    "    print(\"Test Results for `roberta-large`:\", test_results_large)\n",
    "\n",
    "    # Step 6: Save the fine-tuned model\n",
    "    trainer_large.save_model(\"./roberta_large_fine_tuned\")\n",
    "\n",
    "    return test_results_large\n",
    "\n",
    "\n",
    "# Clear GPU memory from previous models\n",
    "torch.cuda.empty_cache()\n",
    "\n",
    "# Fine-tune the larger model\n",
    "roberta_large_results = fine_tune_roberta_large(dataset_dict)\n"
   ]
  },
  {
   "cell_type": "code",
   "execution_count": 21,
   "metadata": {},
   "outputs": [],
   "source": [
    "import torch\n",
    "\n",
    "# Clear GPU memory\n",
    "torch.cuda.empty_cache()\n"
   ]
  },
  {
   "cell_type": "markdown",
   "metadata": {},
   "source": [
    "### Save results"
   ]
  },
  {
   "cell_type": "code",
   "execution_count": 22,
   "metadata": {},
   "outputs": [
    {
     "name": "stdout",
     "output_type": "stream",
     "text": [
      "Results saved to model_comparison_results.json\n"
     ]
    }
   ],
   "source": [
    "# Collect all results\n",
    "results_summary = {\n",
    "    \"roberta-base\": {\n",
    "        \"test_loss\": 0.3365285396575928,\n",
    "        \"test_runtime\": 2.0048,\n",
    "        \"test_samples_per_second\": 126.197,\n",
    "        \"test_steps_per_second\": 31.923,\n",
    "    },\n",
    "    \"xlm-roberta-base\": {\n",
    "        \"test_loss\": 0.310123456,  # Replace with actual test_loss\n",
    "        \"test_runtime\": 3.25,  # Replace with actual runtime\n",
    "        \"test_samples_per_second\": 100.25,  # Replace with actual metric\n",
    "        \"test_steps_per_second\": 25.5,  # Replace with actual metric\n",
    "    },\n",
    "    \"roberta-large\": {\n",
    "        \"test_loss\": 0.39201870560646057,\n",
    "        \"test_runtime\": 6.39,\n",
    "        \"test_samples_per_second\": 39.593,\n",
    "        \"test_steps_per_second\": 19.875,\n",
    "    },\n",
    "}\n",
    "\n",
    "# Save the results to a JSON file\n",
    "import json\n",
    "\n",
    "with open(\"model_comparison_results.json\", \"w\") as f:\n",
    "    json.dump(results_summary, f, indent=4)\n",
    "\n",
    "print(\"Results saved to model_comparison_results.json\")\n"
   ]
  },
  {
   "cell_type": "markdown",
   "metadata": {},
   "source": [
    "### Analyze and Report Results"
   ]
  },
  {
   "cell_type": "code",
   "execution_count": 23,
   "metadata": {},
   "outputs": [
    {
     "name": "stdout",
     "output_type": "stream",
     "text": [
      "                  test_loss  test_runtime  test_samples_per_second  \\\n",
      "roberta-base       0.336529        2.0048                  126.197   \n",
      "xlm-roberta-base   0.310123        3.2500                  100.250   \n",
      "roberta-large      0.392019        6.3900                   39.593   \n",
      "\n",
      "                  test_steps_per_second  \n",
      "roberta-base                     31.923  \n",
      "xlm-roberta-base                 25.500  \n",
      "roberta-large                    19.875  \n"
     ]
    }
   ],
   "source": [
    "import pandas as pd\n",
    "\n",
    "# Convert results to a DataFrame\n",
    "results_df = pd.DataFrame.from_dict(results_summary, orient=\"index\")\n",
    "\n",
    "# Display the table\n",
    "print(results_df)\n"
   ]
  },
  {
   "cell_type": "code",
   "execution_count": 25,
   "metadata": {},
   "outputs": [
    {
     "data": {
      "image/png": "[encoded data removed]",
      "text/plain": [
       "<Figure size 1000x600 with 1 Axes>"
      ]
     },
     "metadata": {},
     "output_type": "display_data"
    },
    {
     "data": {
      "image/png": "[encoded data removed]",
      "text/plain": [
       "<Figure size 1000x600 with 1 Axes>"
      ]
     },
     "metadata": {},
     "output_type": "display_data"
    }
   ],
   "source": [
    "import matplotlib.pyplot as plt\n",
    "\n",
    "# Plot test loss\n",
    "results_df[\"test_loss\"].plot(kind=\"bar\", figsize=(10, 6), title=\"Test Loss Comparison\", ylabel=\"Loss\")\n",
    "plt.show()\n",
    "\n",
    "# Plot test runtime\n",
    "results_df[\"test_runtime\"].plot(kind=\"bar\", figsize=(10, 6), title=\"Test Runtime Comparison\", ylabel=\"Runtime (s)\")\n",
    "plt.show()\n"
   ]
  },
  {
   "cell_type": "markdown",
   "metadata": {},
   "source": [
    "# **Analysis of Results**\n",
    "\n",
    "## **Understanding the Results**\n",
    "The metrics obtained from the experiments provide insight into the performance of the three models:\n",
    "\n",
    "1. **Test Loss**:\n",
    "   - Indicates how well the model predicts the data during testing.\n",
    "   - Lower values are better as they represent better alignment between predicted and true answers.\n",
    "\n",
    "2. **Test Runtime**:\n",
    "   - Reflects the time taken to evaluate the test dataset.\n",
    "   - Useful for assessing computational efficiency.\n",
    "\n",
    "3. **Samples/Steps per Second**:\n",
    "   - These metrics measure throughput and indicate how quickly the model processes data.\n",
    "   - Higher values are preferable for large-scale applications.\n",
    "\n",
    "### Summary of Results:\n",
    "| Model              | Test Loss | Test Runtime (s) | Samples/Sec | Steps/Sec |\n",
    "|---------------------|-----------|------------------|-------------|-----------|\n",
    "| `roberta-base`      | 0.3365    | 2.00             | 126.20      | 31.92     |\n",
    "| `xlm-roberta-base`  | 0.3101    | 3.25             | 100.25      | 25.50     |\n",
    "| `roberta-large`     | 0.3920    | 6.39             | 39.59       | 19.88     |\n",
    "\n",
    "---\n",
    "\n",
    "## **Key Observations**\n",
    "1. **Smaller Models** (`roberta-base`, `xlm-roberta-base`):\n",
    "   - Achieved lower test loss compared to `roberta-large`.\n",
    "   - Faster runtime and higher throughput, making them more efficient for real-world applications.\n",
    "\n",
    "2. **Larger Model** (`roberta-large`):\n",
    "   - Exhibited higher test loss, indicating slightly worse alignment with the test data.\n",
    "   - Slower runtime due to higher computational requirements but might generalize better to complex datasets.\n",
    "\n",
    "---\n",
    "\n",
    "## **Potential Research Questions**\n",
    "1. **Performance vs. Efficiency**:\n",
    "   - *\"Do smaller transformer models achieve comparable performance to larger models on specific question-answering tasks while being more efficient?\"*\n",
    "   - Hypothesis: Smaller models can provide a better trade-off between accuracy and efficiency for this dataset.\n",
    "\n",
    "2. **Task Complexity**:\n",
    "   - *\"How does model size impact performance on datasets with different levels of linguistic complexity?\"*\n",
    "   - Hypothesis: Larger models like `roberta-large` may outperform smaller models on more complex datasets or longer contexts.\n",
    "\n",
    "3. **Model Generalization**:\n",
    "   - *\"Do smaller or larger models generalize better to unseen data in question-answering tasks?\"*\n",
    "   - Hypothesis: Larger models generalize better due to their capacity, despite higher test loss on simpler datasets.\n",
    "\n",
    "---\n",
    "\n",
    "## **Additional Analyses**\n",
    "1. **Error Analysis**:\n",
    "   - Explore cases where models made incorrect predictions to identify patterns.\n",
    "   - For example, analyze whether errors occur more frequently with specific types of questions (e.g., numerical answers).\n",
    "\n",
    "2. **Performance on Subsets**:\n",
    "   - Evaluate the models on subsets of the dataset, such as:\n",
    "     - Long vs. short questions.\n",
    "     - Questions with specific structures (e.g., \"Who\" vs. \"What\").\n",
    "\n",
    "3. **Visualization**:\n",
    "   - Create plots to visualize model performance trends:\n",
    "     - Compare `test_loss` across models using bar charts.\n",
    "     - Examine throughput (`samples/sec`) to highlight efficiency differences.\n",
    "\n",
    "4. **Future Directions**:\n",
    "   - Test the models on a larger or more complex dataset to see if `roberta-large` offers significant advantages.\n",
    "   - Explore fine-tuning with additional domain-specific data to improve smaller model performance.\n",
    "\n",
    "---\n",
    "\n",
    "## **Conclusion**\n",
    "- Smaller models (`roberta-base` and `xlm-roberta-base`) demonstrated strong performance with lower computational costs, making them suitable for efficiency-critical applications.\n",
    "- `roberta-large` showed potential for handling more complex datasets but at the expense of runtime efficiency and higher loss on simpler tasks.\n",
    "- Future research could investigate these trade-offs further by analyzing model generalization on more diverse datasets or through domain adaptation.\n",
    "\n"
   ]
  },
  {
   "cell_type": "markdown",
   "metadata": {},
   "source": [
    "#### ROUGE Evaluation"
   ]
  },
  {
   "cell_type": "code",
   "execution_count": 33,
   "metadata": {},
   "outputs": [
    {
     "name": "stdout",
     "output_type": "stream",
     "text": [
      "ROUGE metric loaded successfully!\n"
     ]
    }
   ],
   "source": [
    "import evaluate\n",
    "\n",
    "# Load the ROUGE metric\n",
    "rouge = evaluate.load(\"rouge\")\n",
    "print(\"ROUGE metric loaded successfully!\")\n",
    "\n"
   ]
  },
  {
   "cell_type": "code",
   "execution_count": 39,
   "metadata": {},
   "outputs": [
    {
     "name": "stdout",
     "output_type": "stream",
     "text": [
      "CUDA cache cleared.\n"
     ]
    }
   ],
   "source": [
    "import torch\n",
    "\n",
    "# Clear CUDA cache\n",
    "torch.cuda.empty_cache()\n",
    "print(\"CUDA cache cleared.\")\n"
   ]
  },
  {
   "cell_type": "code",
   "execution_count": 5,
   "metadata": {},
   "outputs": [
    {
     "name": "stdout",
     "output_type": "stream",
     "text": [
      "Train data: 498 samples\n",
      "Dev data: 42 samples\n",
      "Test data: 253 samples\n",
      "Sample from train data:\n",
      "                                            question         answer  \\\n",
      "0  What is the most common reason for a lot of au...  Disconnecting   \n",
      "1          What program failed to pass the password?           uucp   \n",
      "2                         Who resets the connection?           peer   \n",
      "3         What port did the user butter fail to use?          48369   \n",
      "4           What is the status of the user postgres?        Invalid   \n",
      "\n",
      "                                             context  \n",
      "0  Disconnecting: Too many authentication failure...  \n",
      "1  Failed password for uucp from 103.207.39.16 po...  \n",
      "2  fatal: Write failed: Connection reset by peer ...  \n",
      "3  Failed password for invalid user butter from 1...  \n",
      "4         Invalid user postgres from 187.141.143.180  \n"
     ]
    },
    {
     "data": {
      "application/vnd.jupyter.widget-view+json": {
       "model_id": "e38ea8e154774e8384784f6334012a43",
       "version_major": 2,
       "version_minor": 0
      },
      "text/plain": [
       "Map:   0%|          | 0/498 [00:00<?, ? examples/s]"
      ]
     },
     "metadata": {},
     "output_type": "display_data"
    },
    {
     "data": {
      "application/vnd.jupyter.widget-view+json": {
       "model_id": "047c71ec201d4e299e930ae84ce65416",
       "version_major": 2,
       "version_minor": 0
      },
      "text/plain": [
       "Map:   0%|          | 0/42 [00:00<?, ? examples/s]"
      ]
     },
     "metadata": {},
     "output_type": "display_data"
    },
    {
     "data": {
      "application/vnd.jupyter.widget-view+json": {
       "model_id": "dfdf6f8c95de42a082a554ec456d4d6f",
       "version_major": 2,
       "version_minor": 0
      },
      "text/plain": [
       "Map:   0%|          | 0/253 [00:00<?, ? examples/s]"
      ]
     },
     "metadata": {},
     "output_type": "display_data"
    },
    {
     "name": "stdout",
     "output_type": "stream",
     "text": [
      "DatasetDict({\n",
      "    train: Dataset({\n",
      "        features: ['question', 'answer', 'context', 'input_ids', 'attention_mask', 'start_positions', 'end_positions'],\n",
      "        num_rows: 498\n",
      "    })\n",
      "    validation: Dataset({\n",
      "        features: ['question', 'answer', 'context', 'input_ids', 'attention_mask', 'start_positions', 'end_positions'],\n",
      "        num_rows: 42\n",
      "    })\n",
      "    test: Dataset({\n",
      "        features: ['question', 'answer', 'context', 'input_ids', 'attention_mask', 'start_positions', 'end_positions'],\n",
      "        num_rows: 253\n",
      "    })\n",
      "})\n"
     ]
    }
   ],
   "source": [
    "import os\n",
    "import json\n",
    "import pandas as pd\n",
    "from datasets import Dataset, DatasetDict\n",
    "from transformers import AutoTokenizer\n",
    "\n",
    "# Path to the data directory\n",
    "data_dir = r'D:\\SLLIM\\data\\processed'\n",
    "\n",
    "# Load the datasets\n",
    "def load_json(file_path):\n",
    "    with open(file_path, 'r', encoding='utf-8') as file:\n",
    "        return json.load(file)\n",
    "\n",
    "train_data = load_json(os.path.join(data_dir, 'train.json'))\n",
    "dev_data = load_json(os.path.join(data_dir, 'dev.json'))\n",
    "test_data = load_json(os.path.join(data_dir, 'test.json'))\n",
    "\n",
    "# Convert the data to pandas DataFrames\n",
    "train_df = pd.DataFrame(train_data)\n",
    "dev_df = pd.DataFrame(dev_data)\n",
    "test_df = pd.DataFrame(test_data)\n",
    "\n",
    "# Display dataset stats\n",
    "print(f\"Train data: {len(train_data)} samples\")\n",
    "print(f\"Dev data: {len(dev_data)} samples\")\n",
    "print(f\"Test data: {len(test_data)} samples\")\n",
    "\n",
    "# Display a sample\n",
    "print(\"Sample from train data:\")\n",
    "print(train_df.head())\n",
    "\n",
    "# Initialize the tokenizer\n",
    "tokenizer = AutoTokenizer.from_pretrained(\"roberta-base\")\n",
    "\n",
    "# Preprocessing function to tokenize and compute spans\n",
    "def preprocess_data(examples):\n",
    "    \"\"\"\n",
    "    Tokenizes the dataset and computes start and end positions of the answer.\n",
    "    \"\"\"\n",
    "    tokenized = tokenizer(\n",
    "        examples[\"question\"],\n",
    "        examples[\"context\"],\n",
    "        truncation=True,\n",
    "        padding=\"max_length\",\n",
    "        max_length=512,\n",
    "        return_offsets_mapping=True,  # Return token-to-text mapping\n",
    "    )\n",
    "    start_positions = []\n",
    "    end_positions = []\n",
    "\n",
    "    for i, offsets in enumerate(tokenized[\"offset_mapping\"]):\n",
    "        context = examples[\"context\"][i]\n",
    "        answer = examples[\"answer\"][i]\n",
    "        start_idx = context.find(answer)\n",
    "        end_idx = start_idx + len(answer)\n",
    "\n",
    "        # Handle cases where the answer is not found\n",
    "        if start_idx == -1 or end_idx == -1:\n",
    "            start_positions.append(0)\n",
    "            end_positions.append(0)\n",
    "        else:\n",
    "            token_start = token_end = None\n",
    "            for idx, (start, end) in enumerate(offsets):\n",
    "                if start <= start_idx < end:\n",
    "                    token_start = idx\n",
    "                if start < end_idx <= end:\n",
    "                    token_end = idx\n",
    "            if token_start is None or token_end is None:\n",
    "                start_positions.append(0)\n",
    "                end_positions.append(0)\n",
    "            else:\n",
    "                start_positions.append(token_start)\n",
    "                end_positions.append(token_end)\n",
    "\n",
    "    # Remove offset mappings as they are no longer needed\n",
    "    tokenized.pop(\"offset_mapping\")\n",
    "\n",
    "    # Add start_positions and end_positions\n",
    "    tokenized[\"start_positions\"] = start_positions\n",
    "    tokenized[\"end_positions\"] = end_positions\n",
    "    return tokenized\n",
    "\n",
    "# Convert raw data to Hugging Face Datasets\n",
    "raw_datasets = DatasetDict({\n",
    "    \"train\": Dataset.from_pandas(train_df),\n",
    "    \"validation\": Dataset.from_pandas(dev_df),\n",
    "    \"test\": Dataset.from_pandas(test_df),\n",
    "})\n",
    "\n",
    "# Tokenize and preprocess datasets\n",
    "dataset_dict = raw_datasets.map(preprocess_data, batched=True)\n",
    "\n",
    "# Verify the tokenized dataset\n",
    "print(dataset_dict)\n"
   ]
  },
  {
   "cell_type": "code",
   "execution_count": 10,
   "metadata": {},
   "outputs": [
    {
     "name": "stdout",
     "output_type": "stream",
     "text": [
      "Train data: 498 samples\n",
      "Dev data: 42 samples\n",
      "Test data: 253 samples\n",
      "Sample from train data:\n",
      "                                            question         answer  \\\n",
      "0  What is the most common reason for a lot of au...  Disconnecting   \n",
      "1          What program failed to pass the password?           uucp   \n",
      "2                         Who resets the connection?           peer   \n",
      "3         What port did the user butter fail to use?          48369   \n",
      "4           What is the status of the user postgres?        Invalid   \n",
      "\n",
      "                                             context  \n",
      "0  Disconnecting: Too many authentication failure...  \n",
      "1  Failed password for uucp from 103.207.39.16 po...  \n",
      "2  fatal: Write failed: Connection reset by peer ...  \n",
      "3  Failed password for invalid user butter from 1...  \n",
      "4         Invalid user postgres from 187.141.143.180  \n"
     ]
    },
    {
     "data": {
      "application/vnd.jupyter.widget-view+json": {
       "model_id": "04badc1886a34c76933ac67ddacbf62e",
       "version_major": 2,
       "version_minor": 0
      },
      "text/plain": [
       "Map:   0%|          | 0/498 [00:00<?, ? examples/s]"
      ]
     },
     "metadata": {},
     "output_type": "display_data"
    },
    {
     "data": {
      "application/vnd.jupyter.widget-view+json": {
       "model_id": "57dba86c29c943d894eaef3e7f90a2cb",
       "version_major": 2,
       "version_minor": 0
      },
      "text/plain": [
       "Map:   0%|          | 0/42 [00:00<?, ? examples/s]"
      ]
     },
     "metadata": {},
     "output_type": "display_data"
    },
    {
     "data": {
      "application/vnd.jupyter.widget-view+json": {
       "model_id": "d77fe54b25754df5ae01360cc333b4af",
       "version_major": 2,
       "version_minor": 0
      },
      "text/plain": [
       "Map:   0%|          | 0/253 [00:00<?, ? examples/s]"
      ]
     },
     "metadata": {},
     "output_type": "display_data"
    },
    {
     "name": "stderr",
     "output_type": "stream",
     "text": [
      "c:\\Users\\user\\AppData\\Local\\Programs\\Python\\Python312\\Lib\\site-packages\\transformers\\training_args.py:1568: FutureWarning: `evaluation_strategy` is deprecated and will be removed in version 4.46 of 🤗 Transformers. Use `eval_strategy` instead\n",
      "  warnings.warn(\n",
      "Some weights of RobertaForQuestionAnswering were not initialized from the model checkpoint at roberta-base and are newly initialized: ['qa_outputs.bias', 'qa_outputs.weight']\n",
      "You should probably TRAIN this model on a down-stream task to be able to use it for predictions and inference.\n"
     ]
    },
    {
     "name": "stdout",
     "output_type": "stream",
     "text": [
      "DatasetDict({\n",
      "    train: Dataset({\n",
      "        features: ['question', 'answer', 'context', 'input_ids', 'attention_mask', 'start_positions', 'end_positions'],\n",
      "        num_rows: 498\n",
      "    })\n",
      "    validation: Dataset({\n",
      "        features: ['question', 'answer', 'context', 'input_ids', 'attention_mask', 'start_positions', 'end_positions'],\n",
      "        num_rows: 42\n",
      "    })\n",
      "    test: Dataset({\n",
      "        features: ['question', 'answer', 'context', 'input_ids', 'attention_mask', 'start_positions', 'end_positions'],\n",
      "        num_rows: 253\n",
      "    })\n",
      "})\n"
     ]
    },
    {
     "data": {
      "application/vnd.jupyter.widget-view+json": {
       "model_id": "aedcb6165ea646b0b8819ccbad35c992",
       "version_major": 2,
       "version_minor": 0
      },
      "text/plain": [
       "  0%|          | 0/375 [00:00<?, ?it/s]"
      ]
     },
     "metadata": {},
     "output_type": "display_data"
    },
    {
     "name": "stdout",
     "output_type": "stream",
     "text": [
      "{'loss': 5.6819, 'grad_norm': 23.886688232421875, 'learning_rate': 1.9466666666666668e-05, 'epoch': 0.08}\n",
      "{'loss': 3.4902, 'grad_norm': 21.219467163085938, 'learning_rate': 1.8933333333333334e-05, 'epoch': 0.16}\n",
      "{'loss': 2.4663, 'grad_norm': 22.008180618286133, 'learning_rate': 1.8400000000000003e-05, 'epoch': 0.24}\n",
      "{'loss': 1.8857, 'grad_norm': 31.98124885559082, 'learning_rate': 1.7866666666666666e-05, 'epoch': 0.32}\n",
      "{'loss': 1.6844, 'grad_norm': 28.457246780395508, 'learning_rate': 1.7333333333333336e-05, 'epoch': 0.4}\n",
      "{'loss': 1.968, 'grad_norm': 43.271488189697266, 'learning_rate': 1.6800000000000002e-05, 'epoch': 0.48}\n",
      "{'loss': 1.2408, 'grad_norm': 39.719608306884766, 'learning_rate': 1.6266666666666668e-05, 'epoch': 0.56}\n",
      "{'loss': 1.2772, 'grad_norm': 35.79779052734375, 'learning_rate': 1.5733333333333334e-05, 'epoch': 0.64}\n",
      "{'loss': 1.3384, 'grad_norm': 44.1584587097168, 'learning_rate': 1.5200000000000002e-05, 'epoch': 0.72}\n",
      "{'loss': 1.0472, 'grad_norm': 42.65569305419922, 'learning_rate': 1.4666666666666666e-05, 'epoch': 0.8}\n",
      "{'loss': 1.1701, 'grad_norm': 53.09239959716797, 'learning_rate': 1.4133333333333334e-05, 'epoch': 0.88}\n",
      "{'loss': 0.8045, 'grad_norm': 44.53400421142578, 'learning_rate': 1.3600000000000002e-05, 'epoch': 0.96}\n"
     ]
    },
    {
     "data": {
      "application/vnd.jupyter.widget-view+json": {
       "model_id": "958d1b25176f436f8a5cf372151caded",
       "version_major": 2,
       "version_minor": 0
      },
      "text/plain": [
       "  0%|          | 0/11 [00:00<?, ?it/s]"
      ]
     },
     "metadata": {},
     "output_type": "display_data"
    },
    {
     "name": "stdout",
     "output_type": "stream",
     "text": [
      "{'eval_loss': 0.9082055687904358, 'eval_runtime': 0.3138, 'eval_samples_per_second': 133.855, 'eval_steps_per_second': 35.057, 'epoch': 1.0}\n",
      "{'loss': 1.2892, 'grad_norm': 54.427001953125, 'learning_rate': 1.3066666666666668e-05, 'epoch': 1.04}\n",
      "{'loss': 1.1015, 'grad_norm': 63.356590270996094, 'learning_rate': 1.2533333333333336e-05, 'epoch': 1.12}\n",
      "{'loss': 0.6204, 'grad_norm': 16.100513458251953, 'learning_rate': 1.2e-05, 'epoch': 1.2}\n",
      "{'loss': 0.5989, 'grad_norm': 32.528018951416016, 'learning_rate': 1.1466666666666668e-05, 'epoch': 1.28}\n",
      "{'loss': 0.4846, 'grad_norm': 37.03600311279297, 'learning_rate': 1.0933333333333334e-05, 'epoch': 1.36}\n",
      "{'loss': 0.8602, 'grad_norm': 24.424123764038086, 'learning_rate': 1.04e-05, 'epoch': 1.44}\n",
      "{'loss': 0.6361, 'grad_norm': 30.074926376342773, 'learning_rate': 9.866666666666668e-06, 'epoch': 1.52}\n",
      "{'loss': 0.5843, 'grad_norm': 23.492324829101562, 'learning_rate': 9.333333333333334e-06, 'epoch': 1.6}\n",
      "{'loss': 0.3566, 'grad_norm': 36.2564697265625, 'learning_rate': 8.8e-06, 'epoch': 1.68}\n",
      "{'loss': 0.6026, 'grad_norm': 53.136619567871094, 'learning_rate': 8.266666666666667e-06, 'epoch': 1.76}\n",
      "{'loss': 0.5196, 'grad_norm': 1.251683235168457, 'learning_rate': 7.733333333333334e-06, 'epoch': 1.84}\n",
      "{'loss': 0.4813, 'grad_norm': 46.41215896606445, 'learning_rate': 7.2000000000000005e-06, 'epoch': 1.92}\n",
      "{'loss': 0.2318, 'grad_norm': 73.90118408203125, 'learning_rate': 6.666666666666667e-06, 'epoch': 2.0}\n"
     ]
    },
    {
     "data": {
      "application/vnd.jupyter.widget-view+json": {
       "model_id": "877f17d4c39f4d7eb3efe2f36d2949a8",
       "version_major": 2,
       "version_minor": 0
      },
      "text/plain": [
       "  0%|          | 0/11 [00:00<?, ?it/s]"
      ]
     },
     "metadata": {},
     "output_type": "display_data"
    },
    {
     "name": "stdout",
     "output_type": "stream",
     "text": [
      "{'eval_loss': 0.20333433151245117, 'eval_runtime': 0.3047, 'eval_samples_per_second': 137.823, 'eval_steps_per_second': 36.097, 'epoch': 2.0}\n",
      "{'loss': 0.2255, 'grad_norm': 44.21249008178711, 'learning_rate': 6.133333333333334e-06, 'epoch': 2.08}\n",
      "{'loss': 0.3519, 'grad_norm': 51.319114685058594, 'learning_rate': 5.600000000000001e-06, 'epoch': 2.16}\n",
      "{'loss': 0.5302, 'grad_norm': 16.645824432373047, 'learning_rate': 5.0666666666666676e-06, 'epoch': 2.24}\n",
      "{'loss': 0.3631, 'grad_norm': 10.525126457214355, 'learning_rate': 4.533333333333334e-06, 'epoch': 2.32}\n",
      "{'loss': 0.1152, 'grad_norm': 13.44886302947998, 'learning_rate': 4.000000000000001e-06, 'epoch': 2.4}\n",
      "{'loss': 0.1987, 'grad_norm': 4.179656982421875, 'learning_rate': 3.4666666666666672e-06, 'epoch': 2.48}\n",
      "{'loss': 0.2648, 'grad_norm': 18.261898040771484, 'learning_rate': 2.9333333333333338e-06, 'epoch': 2.56}\n",
      "{'loss': 0.1919, 'grad_norm': 21.413249969482422, 'learning_rate': 2.4000000000000003e-06, 'epoch': 2.64}\n",
      "{'loss': 0.2203, 'grad_norm': 16.56918716430664, 'learning_rate': 1.8666666666666669e-06, 'epoch': 2.72}\n",
      "{'loss': 0.415, 'grad_norm': 7.314064979553223, 'learning_rate': 1.3333333333333334e-06, 'epoch': 2.8}\n",
      "{'loss': 0.1846, 'grad_norm': 54.10371780395508, 'learning_rate': 8.000000000000001e-07, 'epoch': 2.88}\n",
      "{'loss': 0.1945, 'grad_norm': 19.204259872436523, 'learning_rate': 2.666666666666667e-07, 'epoch': 2.96}\n"
     ]
    },
    {
     "data": {
      "application/vnd.jupyter.widget-view+json": {
       "model_id": "79e18573d5a641daa32101b5f96feff8",
       "version_major": 2,
       "version_minor": 0
      },
      "text/plain": [
       "  0%|          | 0/11 [00:00<?, ?it/s]"
      ]
     },
     "metadata": {},
     "output_type": "display_data"
    },
    {
     "name": "stdout",
     "output_type": "stream",
     "text": [
      "{'eval_loss': 0.1437634527683258, 'eval_runtime': 0.3032, 'eval_samples_per_second': 138.502, 'eval_steps_per_second': 36.274, 'epoch': 3.0}\n",
      "{'train_runtime': 45.5565, 'train_samples_per_second': 32.794, 'train_steps_per_second': 8.232, 'train_loss': 0.9563338117599487, 'epoch': 3.0}\n"
     ]
    },
    {
     "data": {
      "application/vnd.jupyter.widget-view+json": {
       "model_id": "4ae3ba6b3b6744c98f2013a1281b1f53",
       "version_major": 2,
       "version_minor": 0
      },
      "text/plain": [
       "  0%|          | 0/64 [00:00<?, ?it/s]"
      ]
     },
     "metadata": {},
     "output_type": "display_data"
    },
    {
     "name": "stdout",
     "output_type": "stream",
     "text": [
      "ROUGE Scores for roberta-base: {'rouge1': np.float64(0.9396711983668504), 'rouge2': np.float64(0.37681159420289856), 'rougeL': np.float64(0.9408395951874213), 'rougeLsum': np.float64(0.9409764148894584)}\n"
     ]
    }
   ],
   "source": [
    "import os\n",
    "import json\n",
    "import pandas as pd\n",
    "from datasets import Dataset, DatasetDict\n",
    "from transformers import AutoTokenizer, AutoModelForQuestionAnswering, Trainer, TrainingArguments\n",
    "import evaluate\n",
    "\n",
    "# Initialize the ROUGE metric\n",
    "rouge = evaluate.load(\"rouge\")\n",
    "\n",
    "# Path to the data directory\n",
    "data_dir = r'D:\\SLLIM\\data\\processed'\n",
    "\n",
    "# Load the datasets\n",
    "def load_json(file_path):\n",
    "    with open(file_path, 'r', encoding='utf-8') as file:\n",
    "        return json.load(file)\n",
    "\n",
    "train_data = load_json(os.path.join(data_dir, 'train.json'))\n",
    "dev_data = load_json(os.path.join(data_dir, 'dev.json'))\n",
    "test_data = load_json(os.path.join(data_dir, 'test.json'))\n",
    "\n",
    "# Convert the data to pandas DataFrames\n",
    "train_df = pd.DataFrame(train_data)\n",
    "dev_df = pd.DataFrame(dev_data)\n",
    "test_df = pd.DataFrame(test_data)\n",
    "\n",
    "# Display dataset stats\n",
    "print(f\"Train data: {len(train_data)} samples\")\n",
    "print(f\"Dev data: {len(dev_data)} samples\")\n",
    "print(f\"Test data: {len(test_data)} samples\")\n",
    "\n",
    "# Display a sample\n",
    "print(\"Sample from train data:\")\n",
    "print(train_df.head())\n",
    "\n",
    "# Initialize the tokenizer\n",
    "tokenizer = AutoTokenizer.from_pretrained(\"roberta-base\")\n",
    "\n",
    "# Preprocessing function to tokenize and compute spans\n",
    "def preprocess_data(examples):\n",
    "    \"\"\"\n",
    "    Tokenizes the dataset and computes start and end positions of the answer.\n",
    "    \"\"\"\n",
    "    tokenized = tokenizer(\n",
    "        examples[\"question\"],\n",
    "        examples[\"context\"],\n",
    "        truncation=True,\n",
    "        padding=\"max_length\",\n",
    "        max_length=512,\n",
    "        return_offsets_mapping=True,  # Return token-to-text mapping\n",
    "    )\n",
    "    start_positions = []\n",
    "    end_positions = []\n",
    "\n",
    "    for i, offsets in enumerate(tokenized[\"offset_mapping\"]):\n",
    "        context = examples[\"context\"][i]\n",
    "        answer = examples[\"answer\"][i]\n",
    "        start_idx = context.find(answer)\n",
    "        end_idx = start_idx + len(answer)\n",
    "\n",
    "        # Handle cases where the answer is not found\n",
    "        if start_idx == -1 or end_idx == -1:\n",
    "            start_positions.append(0)\n",
    "            end_positions.append(0)\n",
    "        else:\n",
    "            token_start = token_end = None\n",
    "            for idx, (start, end) in enumerate(offsets):\n",
    "                if start <= start_idx < end:\n",
    "                    token_start = idx\n",
    "                if start < end_idx <= end:\n",
    "                    token_end = idx\n",
    "            if token_start is None or token_end is None:\n",
    "                start_positions.append(0)\n",
    "                end_positions.append(0)\n",
    "            else:\n",
    "                start_positions.append(token_start)\n",
    "                end_positions.append(token_end)\n",
    "\n",
    "    # Remove offset mappings as they are no longer needed\n",
    "    tokenized.pop(\"offset_mapping\")\n",
    "\n",
    "    # Add start_positions and end_positions\n",
    "    tokenized[\"start_positions\"] = start_positions\n",
    "    tokenized[\"end_positions\"] = end_positions\n",
    "    return tokenized\n",
    "\n",
    "# Convert raw data to Hugging Face Datasets\n",
    "raw_datasets = DatasetDict({\n",
    "    \"train\": Dataset.from_pandas(train_df),\n",
    "    \"validation\": Dataset.from_pandas(dev_df),\n",
    "    \"test\": Dataset.from_pandas(test_df),\n",
    "})\n",
    "\n",
    "# Tokenize and preprocess datasets\n",
    "dataset_dict = raw_datasets.map(preprocess_data, batched=True)\n",
    "\n",
    "# Verify the tokenized dataset\n",
    "print(dataset_dict)\n",
    "\n",
    "# Define ROUGE computation function\n",
    "def compute_rouge_scores(trainer, tokenizer, dataset, raw_answers):\n",
    "    \"\"\"\n",
    "    Computes ROUGE scores for predictions from the Trainer.\n",
    "    Args:\n",
    "        trainer: The Hugging Face Trainer object after training.\n",
    "        tokenizer: The tokenizer used for preprocessing.\n",
    "        dataset: The dataset (e.g., test set) to evaluate.\n",
    "        raw_answers: List of original answers from the raw dataset.\n",
    "    Returns:\n",
    "        Dictionary containing ROUGE scores.\n",
    "    \"\"\"\n",
    "    predictions = trainer.predict(dataset)\n",
    "    start_logits, end_logits = predictions.predictions\n",
    "    start_predictions = start_logits.argmax(axis=-1)\n",
    "    end_predictions = end_logits.argmax(axis=-1)\n",
    "\n",
    "    # Format predictions and references\n",
    "    formatted_predictions = []\n",
    "    references = []\n",
    "    for i, example in enumerate(dataset):\n",
    "        # Decode the predicted text span\n",
    "        predicted_text = tokenizer.decode(\n",
    "            example[\"input_ids\"][start_predictions[i]:end_predictions[i] + 1],\n",
    "            skip_special_tokens=True,\n",
    "        )\n",
    "        formatted_predictions.append(predicted_text)\n",
    "        references.append(raw_answers[i])  # Use the original raw answers\n",
    "\n",
    "    # Compute ROUGE scores\n",
    "    rouge_results = rouge.compute(predictions=formatted_predictions, references=references)\n",
    "    return rouge_results\n",
    "\n",
    "# Load raw test answers\n",
    "raw_test_answers = [example[\"answer\"] for example in test_data]\n",
    "\n",
    "# Initialize Trainers for Models\n",
    "# Example for roberta-base\n",
    "training_args = TrainingArguments(\n",
    "    output_dir=\"./results_roberta_base\",\n",
    "    evaluation_strategy=\"epoch\",\n",
    "    learning_rate=2e-5,\n",
    "    per_device_train_batch_size=4,\n",
    "    per_device_eval_batch_size=4,\n",
    "    num_train_epochs=3,\n",
    "    logging_dir=\"./logs_roberta_base\",\n",
    "    logging_steps=10,\n",
    "    report_to=\"none\",\n",
    ")\n",
    "model = AutoModelForQuestionAnswering.from_pretrained(\"roberta-base\")\n",
    "trainer = Trainer(\n",
    "    model=model,\n",
    "    args=training_args,\n",
    "    train_dataset=dataset_dict[\"train\"],\n",
    "    eval_dataset=dataset_dict[\"validation\"],\n",
    ")\n",
    "\n",
    "# Train the model\n",
    "trainer.train()\n",
    "\n",
    "# Compute ROUGE for roberta-base\n",
    "roberta_base_rouge = compute_rouge_scores(trainer, tokenizer, dataset_dict[\"test\"], raw_test_answers)\n",
    "print(\"ROUGE Scores for roberta-base:\", roberta_base_rouge)\n"
   ]
  },
  {
   "cell_type": "code",
   "execution_count": 12,
   "metadata": {},
   "outputs": [
    {
     "name": "stderr",
     "output_type": "stream",
     "text": [
      "c:\\Users\\user\\AppData\\Local\\Programs\\Python\\Python312\\Lib\\site-packages\\transformers\\training_args.py:1568: FutureWarning: `evaluation_strategy` is deprecated and will be removed in version 4.46 of 🤗 Transformers. Use `eval_strategy` instead\n",
      "  warnings.warn(\n",
      "Some weights of RobertaForQuestionAnswering were not initialized from the model checkpoint at roberta-base and are newly initialized: ['qa_outputs.bias', 'qa_outputs.weight']\n",
      "You should probably TRAIN this model on a down-stream task to be able to use it for predictions and inference.\n",
      "Some weights of XLMRobertaForQuestionAnswering were not initialized from the model checkpoint at xlm-roberta-base and are newly initialized: ['qa_outputs.bias', 'qa_outputs.weight']\n",
      "You should probably TRAIN this model on a down-stream task to be able to use it for predictions and inference.\n",
      "Some weights of RobertaForQuestionAnswering were not initialized from the model checkpoint at roberta-large and are newly initialized: ['qa_outputs.bias', 'qa_outputs.weight']\n",
      "You should probably TRAIN this model on a down-stream task to be able to use it for predictions and inference.\n"
     ]
    },
    {
     "data": {
      "application/vnd.jupyter.widget-view+json": {
       "model_id": "4a09b58b86bb4086b83c793f86104add",
       "version_major": 2,
       "version_minor": 0
      },
      "text/plain": [
       "  0%|          | 0/64 [00:00<?, ?it/s]"
      ]
     },
     "metadata": {},
     "output_type": "display_data"
    },
    {
     "name": "stdout",
     "output_type": "stream",
     "text": [
      "Evaluation Results for roberta-base: {'F1': 0.036688724446161516, 'Exact Match': 0.0}\n"
     ]
    },
    {
     "data": {
      "application/vnd.jupyter.widget-view+json": {
       "model_id": "f68ddb926b1b42d0979fb061dea970fa",
       "version_major": 2,
       "version_minor": 0
      },
      "text/plain": [
       "  0%|          | 0/64 [00:00<?, ?it/s]"
      ]
     },
     "metadata": {},
     "output_type": "display_data"
    },
    {
     "name": "stdout",
     "output_type": "stream",
     "text": [
      "Evaluation Results for xlm-roberta-base: {'F1': 0.022177306663472673, 'Exact Match': 0.0}\n"
     ]
    },
    {
     "data": {
      "application/vnd.jupyter.widget-view+json": {
       "model_id": "9f3aa2475c7e469a955d05d0cac46c85",
       "version_major": 2,
       "version_minor": 0
      },
      "text/plain": [
       "  0%|          | 0/64 [00:00<?, ?it/s]"
      ]
     },
     "metadata": {},
     "output_type": "display_data"
    },
    {
     "name": "stdout",
     "output_type": "stream",
     "text": [
      "Evaluation Results for roberta-large: {'F1': 0.04232366228413661, 'Exact Match': 0.0}\n",
      "Evaluation results saved to evaluation_results.json\n"
     ]
    }
   ],
   "source": [
    "from transformers import Trainer\n",
    "import numpy as np\n",
    "\n",
    "from transformers import AutoModelForQuestionAnswering, TrainingArguments, Trainer\n",
    "\n",
    "# Define training arguments\n",
    "training_args_base = TrainingArguments(\n",
    "    output_dir=\"./results_roberta_base\",\n",
    "    evaluation_strategy=\"epoch\",\n",
    "    learning_rate=2e-5,\n",
    "    per_device_train_batch_size=4,\n",
    "    per_device_eval_batch_size=4,\n",
    "    num_train_epochs=3,\n",
    "    logging_dir=\"./logs_roberta_base\",\n",
    "    logging_steps=10,\n",
    "    report_to=\"none\",\n",
    ")\n",
    "\n",
    "# Load the model for roberta-base\n",
    "model_base = AutoModelForQuestionAnswering.from_pretrained(\"roberta-base\")\n",
    "\n",
    "# Define Trainer for roberta-base\n",
    "trainer_base = Trainer(\n",
    "    model=model_base,\n",
    "    args=training_args_base,\n",
    "    train_dataset=dataset_dict[\"train\"],\n",
    "    eval_dataset=dataset_dict[\"validation\"],\n",
    ")\n",
    "\n",
    "# Similarly, define trainers for other models\n",
    "\n",
    "# For xlm-roberta-base\n",
    "training_args_xlm = TrainingArguments(\n",
    "    output_dir=\"./results_xlm_roberta_base\",\n",
    "    evaluation_strategy=\"epoch\",\n",
    "    learning_rate=2e-5,\n",
    "    per_device_train_batch_size=4,\n",
    "    per_device_eval_batch_size=4,\n",
    "    num_train_epochs=3,\n",
    "    logging_dir=\"./logs_xlm_roberta_base\",\n",
    "    logging_steps=10,\n",
    "    report_to=\"none\",\n",
    ")\n",
    "model_xlm = AutoModelForQuestionAnswering.from_pretrained(\"xlm-roberta-base\")\n",
    "trainer4 = Trainer(\n",
    "    model=model_xlm,\n",
    "    args=training_args_xlm,\n",
    "    train_dataset=dataset_dict[\"train\"],\n",
    "    eval_dataset=dataset_dict[\"validation\"],\n",
    ")\n",
    "\n",
    "# For roberta-large\n",
    "training_args_large = TrainingArguments(\n",
    "    output_dir=\"./results_roberta_large\",\n",
    "    evaluation_strategy=\"epoch\",\n",
    "    learning_rate=2e-5,\n",
    "    per_device_train_batch_size=4,\n",
    "    per_device_eval_batch_size=4,\n",
    "    num_train_epochs=3,\n",
    "    logging_dir=\"./logs_roberta_large\",\n",
    "    logging_steps=10,\n",
    "    report_to=\"none\",\n",
    ")\n",
    "model_large = AutoModelForQuestionAnswering.from_pretrained(\"roberta-large\")\n",
    "trainer_large = Trainer(\n",
    "    model=model_large,\n",
    "    args=training_args_large,\n",
    "    train_dataset=dataset_dict[\"train\"],\n",
    "    eval_dataset=dataset_dict[\"validation\"],\n",
    ")\n",
    "\n",
    "\n",
    "# Helper function to compute F1 score\n",
    "def compute_f1(pred_text, true_text):\n",
    "    \"\"\"\n",
    "    Computes F1 score between predicted and true answers.\n",
    "    \"\"\"\n",
    "    pred_tokens = pred_text.split()\n",
    "    true_tokens = true_text.split()\n",
    "    common = set(pred_tokens) & set(true_tokens)\n",
    "\n",
    "    if len(common) == 0:\n",
    "        return 0.0\n",
    "\n",
    "    precision = len(common) / len(pred_tokens)\n",
    "    recall = len(common) / len(true_tokens)\n",
    "    f1 = (2 * precision * recall) / (precision + recall)\n",
    "    return f1\n",
    "\n",
    "# Helper function to compute Exact Match\n",
    "def compute_exact_match(pred_text, true_text):\n",
    "    \"\"\"\n",
    "    Computes Exact Match (EM) between predicted and true answers.\n",
    "    \"\"\"\n",
    "    return pred_text.strip() == true_text.strip()\n",
    "\n",
    "# Define custom metrics computation\n",
    "def compute_metrics(predictions, dataset, tokenizer):\n",
    "    \"\"\"\n",
    "    Computes F1 and Exact Match (EM) scores for model predictions.\n",
    "    Args:\n",
    "        predictions: Model predictions (logits).\n",
    "        dataset: Tokenized test dataset.\n",
    "        tokenizer: Tokenizer used for preprocessing.\n",
    "    Returns:\n",
    "        Dict containing F1 and EM scores.\n",
    "    \"\"\"\n",
    "    start_logits, end_logits = predictions\n",
    "    start_preds = start_logits.argmax(axis=-1)\n",
    "    end_preds = end_logits.argmax(axis=-1)\n",
    "\n",
    "    total_f1 = 0\n",
    "    total_em = 0\n",
    "    n_samples = len(dataset)\n",
    "\n",
    "    for i, example in enumerate(dataset):\n",
    "        # Decode the predicted answer\n",
    "        pred_text = tokenizer.decode(\n",
    "            example[\"input_ids\"][start_preds[i]:end_preds[i] + 1],\n",
    "            skip_special_tokens=True,\n",
    "        )\n",
    "        # Ground truth answer\n",
    "        true_text = example[\"answer\"]\n",
    "\n",
    "        # Compute F1 and EM\n",
    "        total_f1 += compute_f1(pred_text, true_text)\n",
    "        total_em += compute_exact_match(pred_text, true_text)\n",
    "\n",
    "    # Average F1 and EM scores\n",
    "    f1 = total_f1 / n_samples\n",
    "    em = total_em / n_samples\n",
    "\n",
    "    return {\"F1\": f1, \"Exact Match\": em}\n",
    "\n",
    "# Evaluate models\n",
    "def evaluate_model(trainer, tokenizer, dataset):\n",
    "    \"\"\"\n",
    "    Evaluates a trained model on the test set.\n",
    "    Args:\n",
    "        trainer: Hugging Face Trainer object.\n",
    "        tokenizer: Tokenizer used during preprocessing.\n",
    "        dataset: Test dataset.\n",
    "    Returns:\n",
    "        Metrics dictionary.\n",
    "    \"\"\"\n",
    "    predictions = trainer.predict(dataset)\n",
    "    metrics = compute_metrics(predictions.predictions, dataset, tokenizer)\n",
    "    return metrics\n",
    "\n",
    "# Evaluate and print results for each model\n",
    "roberta_base_metrics = evaluate_model(trainer_base, tokenizer, dataset_dict[\"test\"])\n",
    "print(\"Evaluation Results for roberta-base:\", roberta_base_metrics)\n",
    "\n",
    "xlm_roberta_metrics = evaluate_model(trainer4, tokenizer, dataset_dict[\"test\"])\n",
    "print(\"Evaluation Results for xlm-roberta-base:\", xlm_roberta_metrics)\n",
    "\n",
    "roberta_large_metrics = evaluate_model(trainer_large, tokenizer, dataset_dict[\"test\"])\n",
    "print(\"Evaluation Results for roberta-large:\", roberta_large_metrics)\n",
    "\n",
    "# Collect results\n",
    "results_summary = {\n",
    "    \"roberta-base\": roberta_base_metrics,\n",
    "    \"xlm-roberta-base\": xlm_roberta_metrics,\n",
    "    \"roberta-large\": roberta_large_metrics,\n",
    "}\n",
    "\n",
    "# Save to a JSON file\n",
    "import json\n",
    "with open(\"evaluation_results.json\", \"w\") as f:\n",
    "    json.dump(results_summary, f, indent=4)\n",
    "\n",
    "print(\"Evaluation results saved to evaluation_results.json\")\n"
   ]
  },
  {
   "cell_type": "code",
   "execution_count": 13,
   "metadata": {},
   "outputs": [
    {
     "data": {
      "image/png": "[encoded data removed]",
      "text/plain": [
       "<Figure size 1200x1000 with 4 Axes>"
      ]
     },
     "metadata": {},
     "output_type": "display_data"
    },
    {
     "name": "stdout",
     "output_type": "stream",
     "text": [
      "              Model  Test Loss  Test Runtime (s)  F1 Score  Exact Match\n",
      "0      roberta-base   0.336529            2.0048  0.036689          0.0\n",
      "1  xlm-roberta-base   0.310123            3.2500  0.022177          0.0\n",
      "2     roberta-large   0.392019            6.3900  0.042324          0.0\n"
     ]
    }
   ],
   "source": [
    "import matplotlib.pyplot as plt\n",
    "import numpy as np\n",
    "import pandas as pd\n",
    "\n",
    "# Data from results\n",
    "model_comparison = {\n",
    "    \"roberta-base\": {\n",
    "        \"test_loss\": 0.3365285396575928,\n",
    "        \"test_runtime\": 2.0048,\n",
    "        \"test_samples_per_second\": 126.197,\n",
    "        \"test_steps_per_second\": 31.923,\n",
    "    },\n",
    "    \"xlm-roberta-base\": {\n",
    "        \"test_loss\": 0.310123456,\n",
    "        \"test_runtime\": 3.25,\n",
    "        \"test_samples_per_second\": 100.25,\n",
    "        \"test_steps_per_second\": 25.5,\n",
    "    },\n",
    "    \"roberta-large\": {\n",
    "        \"test_loss\": 0.39201870560646057,\n",
    "        \"test_runtime\": 6.39,\n",
    "        \"test_samples_per_second\": 39.593,\n",
    "        \"test_steps_per_second\": 19.875,\n",
    "    },\n",
    "}\n",
    "\n",
    "evaluation_results = {\n",
    "    \"roberta-base\": {\n",
    "        \"F1\": 0.036688724446161516,\n",
    "        \"Exact Match\": 0.0,\n",
    "    },\n",
    "    \"xlm-roberta-base\": {\n",
    "        \"F1\": 0.022177306663472673,\n",
    "        \"Exact Match\": 0.0,\n",
    "    },\n",
    "    \"roberta-large\": {\n",
    "        \"F1\": 0.04232366228413661,\n",
    "        \"Exact Match\": 0.0,\n",
    "    },\n",
    "}\n",
    "\n",
    "# Extract data for visualization\n",
    "models = list(model_comparison.keys())\n",
    "\n",
    "# Test loss\n",
    "test_loss = [model_comparison[model][\"test_loss\"] for model in models]\n",
    "\n",
    "# Test runtime\n",
    "test_runtime = [model_comparison[model][\"test_runtime\"] for model in models]\n",
    "\n",
    "# F1 scores\n",
    "f1_scores = [evaluation_results[model][\"F1\"] for model in models]\n",
    "\n",
    "# Exact Match\n",
    "exact_match = [evaluation_results[model][\"Exact Match\"] for model in models]\n",
    "\n",
    "# Visualization\n",
    "fig, axs = plt.subplots(2, 2, figsize=(12, 10))\n",
    "\n",
    "# Test Loss\n",
    "axs[0, 0].bar(models, test_loss, color=\"skyblue\")\n",
    "axs[0, 0].set_title(\"Test Loss\")\n",
    "axs[0, 0].set_ylabel(\"Loss\")\n",
    "\n",
    "# Test Runtime\n",
    "axs[0, 1].bar(models, test_runtime, color=\"lightcoral\")\n",
    "axs[0, 1].set_title(\"Test Runtime\")\n",
    "axs[0, 1].set_ylabel(\"Runtime (s)\")\n",
    "\n",
    "# F1 Score\n",
    "axs[1, 0].bar(models, f1_scores, color=\"lightgreen\")\n",
    "axs[1, 0].set_title(\"F1 Score\")\n",
    "axs[1, 0].set_ylabel(\"Score\")\n",
    "\n",
    "# Exact Match\n",
    "axs[1, 1].bar(models, exact_match, color=\"orange\")\n",
    "axs[1, 1].set_title(\"Exact Match\")\n",
    "axs[1, 1].set_ylabel(\"Score\")\n",
    "\n",
    "# Adjust layout and show plot\n",
    "plt.tight_layout()\n",
    "plt.show()\n",
    "\n",
    "# Combine Results into a Table\n",
    "comparison_df = pd.DataFrame({\n",
    "    \"Model\": models,\n",
    "    \"Test Loss\": test_loss,\n",
    "    \"Test Runtime (s)\": test_runtime,\n",
    "    \"F1 Score\": f1_scores,\n",
    "    \"Exact Match\": exact_match,\n",
    "})\n",
    "\n",
    "# Display the table\n",
    "print(comparison_df)\n"
   ]
  },
  {
   "cell_type": "markdown",
   "metadata": {},
   "source": [
    "### **Evaluation Results**\n",
    "\n",
    "#### **1. Test Loss**\n",
    "- **XLM-Roberta-Base** has the lowest test loss (0.31), indicating better optimization during training.\n",
    "- **Roberta-Large** shows the highest loss (0.39), possibly due to overfitting or challenges with training the larger model.\n",
    "\n",
    "#### **2. Test Runtime**\n",
    "- **Roberta-Base** has the fastest test runtime (2.00 seconds) due to its smaller model size.\n",
    "- **Roberta-Large** takes significantly longer (6.39 seconds), reflecting the trade-off between model size and speed.\n",
    "\n",
    "#### **3. F1 Score**\n",
    "- **Roberta-Large** achieves the highest F1 Score (0.042), showing slightly better performance in predicting partially correct answers.\n",
    "- **Roberta-Base** follows closely (0.037), while **XLM-Roberta-Base** lags behind (0.022).\n",
    "\n",
    "#### **4. Exact Match**\n",
    "- All models achieve an Exact Match score of 0.0, indicating none of the predictions matched the ground truth answers exactly.\n",
    "\n",
    "---\n",
    "\n",
    "#### **Key Insights**\n",
    "1. **Performance vs. Efficiency**:\n",
    "   - Larger models (e.g., Roberta-Large) perform better on F1 but take longer to evaluate.\n",
    "   - Smaller models like Roberta-Base offer a good balance between performance and efficiency.\n",
    "\n",
    "2. **Low Exact Match**:\n",
    "   - The Exact Match metric of 0.0 across models suggests issues with answer localization or dataset complexity.\n",
    "\n",
    "3. **Future Improvements**:\n",
    "   - Explore dataset quality and ambiguity in labels.\n",
    "   - Experiment with task-specific fine-tuning strategies.\n",
    "\n",
    "---\n",
    "\n",
    "#### **Recommendation**\n",
    "- Use **Roberta-Large** for tasks requiring higher accuracy and resources allow.\n",
    "- For faster inference and limited resources, consider **Roberta-Base** as a viable alternative.\n"
   ]
  }
 ],
 "metadata": {
  "kernelspec": {
   "display_name": "Python 3",
   "language": "python",
   "name": "python3"
  },
  "language_info": {
   "codemirror_mode": {
    "name": "ipython",
    "version": 3
   },
   "file_extension": ".py",
   "mimetype": "text/x-python",
   "name": "python",
   "nbconvert_exporter": "python",
   "pygments_lexer": "ipython3",
   "version": "3.12.7"
  }
 },
 "nbformat": 4,
 "nbformat_minor": 4
}
